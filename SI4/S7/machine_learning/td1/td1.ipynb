{
 "cells": [
  {
   "attachments": {},
   "cell_type": "markdown",
   "metadata": {},
   "source": [
    "# TP introduction to Machine Learning\n",
    "Diane Lingrand (diane.lingrand@univ-cotedazur)\n",
    "\n",
    "Julie Tores (julie.tores@univ-cotedazur.fr ou julie.tores@etu.univ-cotedazur.fr)\n",
    "\n",
    "Polytech, SI4, 2023-24"
   ]
  },
  {
   "cell_type": "code",
   "execution_count": 33,
   "metadata": {
    "ExecuteTime": {
     "end_time": "2022-09-13T07:44:55.627114Z",
     "start_time": "2022-09-13T07:44:55.619848Z"
    }
   },
   "outputs": [],
   "source": [
    "#necessary imports\n",
    "from sklearn import datasets\n",
    "import numpy as np\n",
    "import matplotlib.pyplot as plt"
   ]
  },
  {
   "attachments": {},
   "cell_type": "markdown",
   "metadata": {},
   "source": [
    "## dataset: Iris"
   ]
  },
  {
   "cell_type": "code",
   "execution_count": 34,
   "metadata": {
    "ExecuteTime": {
     "end_time": "2022-09-13T07:45:10.182817Z",
     "start_time": "2022-09-13T07:45:10.165710Z"
    }
   },
   "outputs": [],
   "source": [
    "# loading the dataset\n",
    "iris = datasets.load_iris()\n",
    "X = iris.data\n",
    "y = iris.target"
   ]
  },
  {
   "attachments": {},
   "cell_type": "markdown",
   "metadata": {},
   "source": [
    "**Question 1:** how many data ?"
   ]
  },
  {
   "cell_type": "code",
   "execution_count": 35,
   "metadata": {
    "ExecuteTime": {
     "end_time": "2022-09-13T07:46:27.057027Z",
     "start_time": "2022-09-13T07:46:27.050781Z"
    }
   },
   "outputs": [
    {
     "name": "stdout",
     "output_type": "stream",
     "text": [
      "150\n",
      "150\n"
     ]
    }
   ],
   "source": [
    "print(len(X))\n",
    "print(len(y))\n"
   ]
  },
  {
   "attachments": {},
   "cell_type": "markdown",
   "metadata": {
    "ExecuteTime": {
     "end_time": "2022-09-12T12:06:16.514897Z",
     "start_time": "2022-09-12T12:06:16.510105Z"
    }
   },
   "source": [
    "**Question 2**: type of data ? dimension of data ? type of labels ?"
   ]
  },
  {
   "cell_type": "code",
   "execution_count": 36,
   "metadata": {
    "ExecuteTime": {
     "end_time": "2022-09-13T07:49:23.075660Z",
     "start_time": "2022-09-13T07:49:23.066403Z"
    }
   },
   "outputs": [
    {
     "name": "stdout",
     "output_type": "stream",
     "text": [
      "(150, 4)\n",
      "(150,)\n",
      "float64\n",
      "int64\n"
     ]
    }
   ],
   "source": [
    "print(X.shape)\n",
    "print(y.shape)\n",
    "\n",
    "print(X.dtype)\n",
    "print(y.dtype)"
   ]
  },
  {
   "attachments": {},
   "cell_type": "markdown",
   "metadata": {},
   "source": [
    "**Question 3:** How many classes ? How many samples per class ?"
   ]
  },
  {
   "cell_type": "code",
   "execution_count": 48,
   "metadata": {
    "ExecuteTime": {
     "end_time": "2022-09-13T08:01:30.516048Z",
     "start_time": "2022-09-13T08:01:30.510978Z"
    }
   },
   "outputs": [
    {
     "name": "stdout",
     "output_type": "stream",
     "text": [
      "Distinct values of y: [0 1 2]\n",
      "Number of distinct values of y: 3\n",
      "Count of each distinct value of y: [50 50 50]\n"
     ]
    }
   ],
   "source": [
    "# print distinct values of y\n",
    "classes = np.unique(y)\n",
    "print(f\"Distinct values of y: {classes}\")\n",
    "\n",
    "classes_count = len(classes)\n",
    "print(f\"Number of distinct values of y: {classes_count}\")\n",
    "\n",
    "# count of each distinct value of y\n",
    "print(f\"Count of each distinct value of y: {np.bincount(y)}\")"
   ]
  },
  {
   "attachments": {},
   "cell_type": "markdown",
   "metadata": {},
   "source": [
    "**Question 4:** choose 2 dimensions and plot the data in the plane using a different color for each class."
   ]
  },
  {
   "cell_type": "code",
   "execution_count": 52,
   "metadata": {
    "ExecuteTime": {
     "end_time": "2022-09-12T12:09:10.528218Z",
     "start_time": "2022-09-12T12:09:10.525505Z"
    }
   },
   "outputs": [
    {
     "name": "stdout",
     "output_type": "stream",
     "text": [
      "(150, 2)\n"
     ]
    },
    {
     "data": {
      "text/plain": [
       "<matplotlib.legend.Legend at 0x7f6bb67e04f0>"
      ]
     },
     "execution_count": 52,
     "metadata": {},
     "output_type": "execute_result"
    },
    {
     "data": {
      "image/png": "[encoded data removed]",
      "text/plain": [
       "<Figure size 640x480 with 1 Axes>"
      ]
     },
     "metadata": {},
     "output_type": "display_data"
    }
   ],
   "source": [
    "# X is (150, 4). Make it (150, 2) by taking only the first two features for plotting\n",
    "X_plot = X[:, :2]\n",
    "print(X_plot.shape)\n",
    "# use different colors for each class\n",
    "colors = ['red', 'blue', 'green']\n",
    "\n",
    "classes_name = iris.target_names\n",
    "\n",
    "# plot the data\n",
    "for idx, cl in enumerate(np.unique(y)):\n",
    "    class_vals = X_plot[y == cl]\n",
    "    class_name = classes_name[cl]\n",
    "    plt.scatter(class_vals[:, 0], class_vals[:, 1], c=colors[idx], label=class_name)\n",
    "\n",
    "plt.legend()\n",
    "\n"
   ]
  },
  {
   "attachments": {},
   "cell_type": "markdown",
   "metadata": {
    "ExecuteTime": {
     "end_time": "2022-09-12T12:09:02.330289Z",
     "start_time": "2022-09-12T12:09:02.326829Z"
    }
   },
   "source": [
    "**Question 5:** perfect classification. What are the metrics values ? Read the documention of metrics function in scikit-learn: https://scikit-learn.org/stable/modules/model_evaluation.html#classification-metrics"
   ]
  },
  {
   "cell_type": "code",
   "execution_count": 39,
   "metadata": {
    "ExecuteTime": {
     "end_time": "2022-09-12T16:04:24.062901Z",
     "start_time": "2022-09-12T16:04:24.041193Z"
    }
   },
   "outputs": [
    {
     "name": "stdout",
     "output_type": "stream",
     "text": [
      "metrics for perfect prediction\n",
      "accuracy 1.0\n",
      "recall [1. 1. 1.]\n",
      "f1 [1. 1. 1.]\n"
     ]
    },
    {
     "data": {
      "image/png": "[encoded data removed]",
      "text/plain": [
       "<Figure size 480x480 with 1 Axes>"
      ]
     },
     "metadata": {},
     "output_type": "display_data"
    }
   ],
   "source": [
    "from sklearn.metrics import accuracy_score, recall_score, f1_score, confusion_matrix\n",
    "\n",
    "# here is an example for accuracy: \n",
    "\n",
    "\n",
    "def metrics(y, y_pred):\n",
    "    acuracy = accuracy_score(y, y_pred)\n",
    "    recall = recall_score(y, y_pred, average=None)\n",
    "    f1 = f1_score(y, y_pred, average=None)\n",
    "    print(\"accuracy\", acuracy)\n",
    "    print(\"recall\", recall)\n",
    "    print(\"f1\", f1)\n",
    "\n",
    "    confusion = confusion_matrix(y, y_pred)\n",
    "    plt.matshow(confusion)\n",
    "\n",
    "print(\"metrics for perfect prediction\")\n",
    "metrics(y, y)"
   ]
  },
  {
   "attachments": {},
   "cell_type": "markdown",
   "metadata": {
    "hide_input": false
   },
   "source": [
    "**Question 6**: random classification. What are the metrics values ? <br/>\n",
    "*Hint*: use https://numpy.org/doc/stable/reference/random/generated/numpy.random.randint.html for the generation of random labels. <br/>\n",
    "Don't forget the confusion matrix. Hint: ConfusionMatrixDisplay https://scikit-learn.org/stable/modules/generated/sklearn.metrics.ConfusionMatrixDisplay.html#sklearn.metrics.ConfusionMatrixDisplay.from_predictions"
   ]
  },
  {
   "cell_type": "code",
   "execution_count": 44,
   "metadata": {
    "ExecuteTime": {
     "end_time": "2022-09-13T08:39:02.010371Z",
     "start_time": "2022-09-13T08:39:00.929470Z"
    }
   },
   "outputs": [
    {
     "name": "stdout",
     "output_type": "stream",
     "text": [
      "metrics for random classification\n",
      "accuracy 0.3333333333333333\n",
      "recall [0.4 0.3 0.3]\n",
      "f1 [0.39215686 0.2970297  0.30927835]\n"
     ]
    },
    {
     "data": {
      "image/png": "[encoded data removed]",
      "text/plain": [
       "<Figure size 480x480 with 1 Axes>"
      ]
     },
     "metadata": {},
     "output_type": "display_data"
    }
   ],
   "source": [
    "Y_rand = np.random.randint(0, classes_count, size=len(y))\n",
    "print(\"metrics for random classification\")\n",
    "metrics(y, Y_rand)"
   ]
  },
  {
   "attachments": {},
   "cell_type": "markdown",
   "metadata": {},
   "source": [
    "### binary classification"
   ]
  },
  {
   "cell_type": "code",
   "execution_count": 45,
   "metadata": {
    "ExecuteTime": {
     "end_time": "2022-09-12T15:12:41.917261Z",
     "start_time": "2022-09-12T15:12:41.913222Z"
    }
   },
   "outputs": [],
   "source": [
    "# we choose to remove class with label 2 (Iris Virginica)\n",
    "XBinaire = X[y!=2]\n",
    "yBinaire = y[y!=2]\n"
   ]
  },
  {
   "cell_type": "code",
   "execution_count": 46,
   "metadata": {
    "ExecuteTime": {
     "end_time": "2022-09-12T15:25:59.921463Z",
     "start_time": "2022-09-12T15:25:59.798555Z"
    }
   },
   "outputs": [],
   "source": [
    "# split into train and test datasets\n",
    "from sklearn.model_selection import train_test_split\n",
    "X_train, X_test, y_train, y_test = train_test_split(XBinaire, yBinaire, test_size=0.4)"
   ]
  },
  {
   "attachments": {},
   "cell_type": "markdown",
   "metadata": {
    "ExecuteTime": {
     "end_time": "2022-09-12T15:19:51.121574Z",
     "start_time": "2022-09-12T15:19:51.117324Z"
    }
   },
   "source": [
    "**Question 7**: Try to build a classifier better than the random one, use the thresholding on one or more component. Choose the thresholds using the train dataset and compute the metrics on the test dataset.\n",
    "    "
   ]
  },
  {
   "cell_type": "code",
   "execution_count": 66,
   "metadata": {},
   "outputs": [
    {
     "name": "stdout",
     "output_type": "stream",
     "text": [
      "metrics for threshold classification\n",
      "accuracy 0.975\n",
      "recall [1.         0.95238095]\n",
      "f1 [0.97435897 0.97560976]\n"
     ]
    },
    {
     "data": {
      "image/png": "[encoded data removed]",
      "text/plain": [
       "<Figure size 480x480 with 1 Axes>"
      ]
     },
     "metadata": {},
     "output_type": "display_data"
    }
   ],
   "source": [
    "# according to the plot, we can see that the data is linearly separable with\n",
    "# a line that goes through (4.5, 2.25) and (6, 3.5)\n",
    "def line(x):\n",
    "    return 0.833 * x - 1.5  # from https://planetcalc.com/8110/\n",
    "\n",
    "\n",
    "# if the point is above the line, it is class 0, otherwise it is class 1\n",
    "def threshold(x, y):\n",
    "    return 0 if y > line(x) else 1\n",
    "\n",
    "# predict\n",
    "Y_threshold = np.array([threshold(x, y) for x, y in X_test[:, :2]])\n",
    "\n",
    "# compute metrics\n",
    "print(\"metrics for threshold classification\")\n",
    "metrics(y_test, Y_threshold)"
   ]
  },
  {
   "attachments": {},
   "cell_type": "markdown",
   "metadata": {},
   "source": [
    "**Question 8**: Using this method, could you propose an algorithm for classifying the 3 classes?"
   ]
  },
  {
   "attachments": {},
   "cell_type": "markdown",
   "metadata": {},
   "source": [
    "No, since there is no clear separation with the third class (at least according to the plot)."
   ]
  },
  {
   "attachments": {},
   "cell_type": "markdown",
   "metadata": {},
   "source": [
    "## dataset: digit"
   ]
  },
  {
   "cell_type": "code",
   "execution_count": 67,
   "metadata": {},
   "outputs": [],
   "source": [
    "# reading the dataset\n",
    "digits = datasets.load_digits()\n",
    "X = digits.data\n",
    "y = digits.target"
   ]
  },
  {
   "cell_type": "code",
   "execution_count": 91,
   "metadata": {},
   "outputs": [
    {
     "data": {
      "image/png": "[encoded data removed]",
      "text/plain": [
       "<Figure size 640x480 with 1 Axes>"
      ]
     },
     "metadata": {},
     "output_type": "display_data"
    },
    {
     "name": "stdout",
     "output_type": "stream",
     "text": [
      "class =  1\n",
      "[ 0.  0.  0.  2. 16. 16.  2.  0.  0.  0.  0.  4. 16. 16.  2.  0.  0.  1.\n",
      "  4. 12. 16. 12.  0.  0.  0.  7. 16. 16. 16. 12.  0.  0.  0.  0.  3. 10.\n",
      " 16. 14.  0.  0.  0.  0.  0.  8. 16. 12.  0.  0.  0.  0.  0.  6. 16. 16.\n",
      "  2.  0.  0.  0.  0.  2. 12. 15.  4.  0.]\n"
     ]
    }
   ],
   "source": [
    "# display one of the pictures (the 22th in this code)\n",
    "import matplotlib.pyplot as plt\n",
    "i = 21 # index of the image: change it in order to display other images\n",
    "plt.imshow(X[i].reshape((8,8)),aspect=\"auto\",cmap='gray')\n",
    "plt.show()\n",
    "print('class = ', y[i])\n",
    "print(X[i])"
   ]
  },
  {
   "attachments": {},
   "cell_type": "markdown",
   "metadata": {},
   "source": [
    "**Question 9**: Using the digit dataset, answer again to the previous questions from 1 to 8."
   ]
  },
  {
   "cell_type": "code",
   "execution_count": 114,
   "metadata": {},
   "outputs": [
    {
     "name": "stdout",
     "output_type": "stream",
     "text": [
      "(1797, 64)\n",
      "(1797,)\n",
      "float64\n",
      "int64\n"
     ]
    },
    {
     "data": {
      "text/plain": [
       "<matplotlib.collections.PathCollection at 0x7f6bb3cb0940>"
      ]
     },
     "execution_count": 114,
     "metadata": {},
     "output_type": "execute_result"
    },
    {
     "data": {
      "image/png": "[encoded data removed]",
      "text/plain": [
       "<Figure size 640x480 with 1 Axes>"
      ]
     },
     "metadata": {},
     "output_type": "display_data"
    }
   ],
   "source": [
    "# Data shape\n",
    "print(X.shape)\n",
    "print(y.shape)\n",
    "\n",
    "# Data type\n",
    "print(X.dtype)\n",
    "print(y.dtype)\n",
    "\n",
    "# let's just skip to the classification part\n",
    "# split into train and test datasets\n",
    "X_train, X_test, y_train, y_test = train_test_split(X, y, test_size=.4)\n",
    "\n",
    "# Let's keep only two classes: 0 and 1\n",
    "X_train = X_train[y_train<2]\n",
    "y_train = y_train[y_train<2]\n",
    "X_test = X_test[y_test<2]\n",
    "y_test = y_test[y_test<2]\n",
    "\n",
    "# Now we need a dimensionality reduction method\n",
    "# An image is a 8x8 matrix, so we have 64 features\n",
    "# The digit zero usually has more black pixels than the digit one\n",
    "# So we can count the number of black pixels and use it as a feature\n",
    "# Let's consider a black pixel is a pixel with a value less than 3\n",
    "\n",
    "def count_black_pixels(x):\n",
    "    return np.count_nonzero(x < 3)\n",
    "\n",
    "# apply the function to all images\n",
    "X_train_black = np.apply_along_axis(count_black_pixels, 1, X_train)\n",
    "\n",
    "# plot the data, using red for class 0 and blue for class 1\n",
    "plt.scatter(X_train_black, y_train, c=['red' if y == 0 else 'blue' for y in y_train])\n"
   ]
  },
  {
   "cell_type": "code",
   "execution_count": 120,
   "metadata": {},
   "outputs": [
    {
     "data": {
      "text/plain": [
       "<matplotlib.collections.PathCollection at 0x7f6bb29aeda0>"
      ]
     },
     "execution_count": 120,
     "metadata": {},
     "output_type": "execute_result"
    },
    {
     "data": {
      "image/png": "[encoded data removed]",
      "text/plain": [
       "<Figure size 640x480 with 1 Axes>"
      ]
     },
     "metadata": {},
     "output_type": "display_data"
    }
   ],
   "source": [
    "# there is no clear separation between the two classes\n",
    "# so this is not good enough. We need another feature\n",
    "# let's count the number of black pixels in the middle column (column 4)\n",
    "def count_black_pixels_middle(x):\n",
    "    middle = x.reshape((8, 8))[:, 4]\n",
    "    return count_black_pixels(middle)\n",
    "\n",
    "\n",
    "# apply the function to all images\n",
    "X_train_middle_black = np.apply_along_axis(count_black_pixels_middle, 1,\n",
    "                                           X_train)\n",
    "\n",
    "# plot the data\n",
    "plt.scatter(X_train_black, X_train_middle_black, c=['red' if y == 0 else 'blue' for y in y_train])"
   ]
  },
  {
   "cell_type": "code",
   "execution_count": 123,
   "metadata": {},
   "outputs": [
    {
     "name": "stdout",
     "output_type": "stream",
     "text": [
      "metrics for threshold classification\n",
      "accuracy 0.9748427672955975\n",
      "recall [0.95061728 1.        ]\n",
      "f1 [0.97468354 0.975     ]\n"
     ]
    },
    {
     "data": {
      "image/png": "[encoded data removed]",
      "text/plain": [
       "<Figure size 480x480 with 1 Axes>"
      ]
     },
     "metadata": {},
     "output_type": "display_data"
    }
   ],
   "source": [
    "# We can clearly see that the two classes are linearly separable with a line that goes through (30, 1) and (40, 4)\n",
    "# So we can use this line as a classifier\n",
    "\n",
    "# if the point is above the line, it is class 0, otherwise it is class 1\n",
    "def line(x):\n",
    "    return 0.3 * x - 8  # from https://planetcalc.com/8110/\n",
    "\n",
    "def threshold(x, y):\n",
    "    return 0 if y > line(x) else 1\n",
    "\n",
    "# predict\n",
    "X_test_black = np.apply_along_axis(count_black_pixels, 1, X_test)\n",
    "X_test_middle_black = np.apply_along_axis(count_black_pixels_middle, 1,\n",
    "                                            X_test)\n",
    "\n",
    "Y_threshold = np.array([threshold(x, y) for x, y in zip(X_test_black, X_test_middle_black)])\n",
    "\n",
    "# compute metrics\n",
    "print(\"metrics for threshold classification\")\n",
    "metrics(y_test, Y_threshold)\n",
    "\n"
   ]
  }
 ],
 "metadata": {
  "hide_input": false,
  "kernelspec": {
   "display_name": "Python 3 (ipykernel)",
   "language": "python",
   "name": "python3"
  },
  "language_info": {
   "codemirror_mode": {
    "name": "ipython",
    "version": 3
   },
   "file_extension": ".py",
   "mimetype": "text/x-python",
   "name": "python",
   "nbconvert_exporter": "python",
   "pygments_lexer": "ipython3",
   "version": "3.10.12"
  },
  "latex_envs": {
   "LaTeX_envs_menu_present": true,
   "autoclose": false,
   "autocomplete": true,
   "bibliofile": "biblio.bib",
   "cite_by": "apalike",
   "current_citInitial": 1,
   "eqLabelWithNumbers": true,
   "eqNumInitial": 1,
   "hotkeys": {
    "equation": "Ctrl-E",
    "itemize": "Ctrl-I"
   },
   "labels_anchors": false,
   "latex_user_defs": false,
   "report_style_numbering": false,
   "user_envs_cfg": false
  },
  "varInspector": {
   "cols": {
    "lenName": 16,
    "lenType": 16,
    "lenVar": 40
   },
   "kernels_config": {
    "python": {
     "delete_cmd_postfix": "",
     "delete_cmd_prefix": "del ",
     "library": "var_list.py",
     "varRefreshCmd": "print(var_dic_list())"
    },
    "r": {
     "delete_cmd_postfix": ") ",
     "delete_cmd_prefix": "rm(",
     "library": "var_list.r",
     "varRefreshCmd": "cat(var_dic_list()) "
    }
   },
   "types_to_exclude": [
    "module",
    "function",
    "builtin_function_or_method",
    "instance",
    "_Feature"
   ],
   "window_display": false
  }
 },
 "nbformat": 4,
 "nbformat_minor": 2
}
