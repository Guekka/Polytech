{
 "cells": [
  {
   "cell_type": "markdown",
   "metadata": {},
   "source": [
    "# TP réseaux de neurones\n",
    "\n",
    "Diane Lingrand (diane.lingrand@univ-cotedazur.fr)\n",
    "\n",
    "Polytech SI4 - CVML - 2022-23"
   ]
  },
  {
   "cell_type": "markdown",
   "metadata": {},
   "source": [
    "## imports nécessaires pour la suite"
   ]
  },
  {
   "cell_type": "code",
   "execution_count": 129,
   "metadata": {
    "ExecuteTime": {
     "end_time": "2022-11-14T13:51:34.286491Z",
     "start_time": "2022-11-14T13:51:27.172676Z"
    }
   },
   "outputs": [],
   "source": [
    "import matplotlib.pyplot as plt\n",
    "import random\n",
    "import numpy as np\n",
    "from sklearn import ensemble\n",
    "from sklearn.metrics import ConfusionMatrixDisplay, f1_score\n",
    "from sklearn.utils import shuffle\n",
    "from tensorflow.keras.models import Sequential\n",
    "from tensorflow.keras.layers import Dense, Activation \n",
    "import tensorflow.keras.utils"
   ]
  },
  {
   "cell_type": "code",
   "execution_count": 130,
   "metadata": {
    "ExecuteTime": {
     "end_time": "2022-11-14T13:52:05.755716Z",
     "start_time": "2022-11-14T13:52:05.420903Z"
    }
   },
   "outputs": [],
   "source": [
    "# reading the dataset\n",
    "from tensorflow.keras.datasets import mnist\n",
    "\n",
    "(x_train, y_train), (x_test, y_test) = mnist.load_data()"
   ]
  },
  {
   "cell_type": "code",
   "execution_count": 131,
   "metadata": {
    "ExecuteTime": {
     "end_time": "2022-11-14T13:58:46.141357Z",
     "start_time": "2022-11-14T13:58:46.136121Z"
    }
   },
   "outputs": [
    {
     "name": "stdout",
     "output_type": "stream",
     "text": [
      "shape of x_train: (60000, 28, 28)\n",
      "shape of y_train: (60000,)\n"
     ]
    }
   ],
   "source": [
    "print(\"shape of x_train:\", x_train.shape)\n",
    "print(\"shape of y_train:\", y_train.shape)"
   ]
  },
  {
   "cell_type": "code",
   "execution_count": 132,
   "metadata": {
    "ExecuteTime": {
     "end_time": "2022-11-14T13:52:06.104027Z",
     "start_time": "2022-11-14T13:52:05.967253Z"
    }
   },
   "outputs": [
    {
     "data": {
      "image/png": "[encoded data removed]",
      "text/plain": [
       "<Figure size 640x480 with 1 Axes>"
      ]
     },
     "metadata": {},
     "output_type": "display_data"
    }
   ],
   "source": [
    "# display a random image from the train dataset (re-run the cell in order to change the image)\n",
    "import matplotlib.pyplot as plt\n",
    "i = random.randint(0,len(x_train)-1)\n",
    "plt.imshow(x_train[i],aspect=\"auto\",cmap='gray')\n",
    "plt.show()"
   ]
  },
  {
   "cell_type": "markdown",
   "metadata": {
    "heading_collapsed": true
   },
   "source": [
    "# 1. Un premier MLP"
   ]
  },
  {
   "cell_type": "code",
   "execution_count": 147,
   "metadata": {
    "hidden": true
   },
   "outputs": [],
   "source": [
    "nbClasses=10\n",
    "# Let's build a simple neural network using the keras sequential method\n",
    "model = Sequential()\n",
    "#topology: input as the size of data, one hidden layer with 4 neurons and usual sigmoid activation\n",
    "topology = [x_train.shape[1], 4, nbClasses]\n",
    "# softmax for the output using as many neurons as classes \n",
    "output_activation = 'softmax'\n",
    "\n",
    "# first hidden layer\n",
    "nbNeuronsHL = 20\n",
    "model.add(Dense(nbNeuronsHL, input_dim=784, activation='sigmoid'))\n",
    "\n",
    "# output layer\n",
    "model.add(Dense(nbClasses, activation='softmax'))"
   ]
  },
  {
   "cell_type": "code",
   "execution_count": 134,
   "metadata": {
    "hidden": true
   },
   "outputs": [
    {
     "name": "stdout",
     "output_type": "stream",
     "text": [
      "Model: \"sequential_11\"\n",
      "_________________________________________________________________\n",
      " Layer (type)                Output Shape              Param #   \n",
      "=================================================================\n",
      " dense_20 (Dense)            (None, 20)                15700     \n",
      "                                                                 \n",
      " dense_21 (Dense)            (None, 10)                210       \n",
      "                                                                 \n",
      "=================================================================\n",
      "Total params: 15,910\n",
      "Trainable params: 15,910\n",
      "Non-trainable params: 0\n",
      "_________________________________________________________________\n"
     ]
    }
   ],
   "source": [
    "model.summary()"
   ]
  },
  {
   "cell_type": "code",
   "execution_count": 148,
   "metadata": {
    "hidden": true
   },
   "outputs": [],
   "source": [
    "# we need to define the loss function for the training, the optimisation method (RMSprop) and the accuracy as a metric\n",
    "model.compile(optimizer='rmsprop', loss='categorical_crossentropy', metrics=['accuracy'])"
   ]
  },
  {
   "cell_type": "code",
   "execution_count": 136,
   "metadata": {
    "hidden": true
   },
   "outputs": [
    {
     "name": "stdout",
     "output_type": "stream",
     "text": [
      "Epoch 1/20\n",
      "469/469 [==============================] - 2s 2ms/step - loss: 1.0895 - accuracy: 0.7656\n",
      "Epoch 2/20\n",
      "469/469 [==============================] - 1s 2ms/step - loss: 0.4532 - accuracy: 0.8924\n",
      "Epoch 3/20\n",
      "469/469 [==============================] - 1s 2ms/step - loss: 0.3328 - accuracy: 0.9112\n",
      "Epoch 4/20\n",
      "469/469 [==============================] - 1s 2ms/step - loss: 0.2852 - accuracy: 0.9207\n",
      "Epoch 5/20\n",
      "469/469 [==============================] - 1s 2ms/step - loss: 0.2574 - accuracy: 0.9276\n",
      "Epoch 6/20\n",
      "469/469 [==============================] - 1s 2ms/step - loss: 0.2378 - accuracy: 0.9324\n",
      "Epoch 7/20\n",
      "469/469 [==============================] - 1s 2ms/step - loss: 0.2224 - accuracy: 0.9372\n",
      "Epoch 8/20\n",
      "469/469 [==============================] - 1s 2ms/step - loss: 0.2098 - accuracy: 0.9406\n",
      "Epoch 9/20\n",
      "469/469 [==============================] - 1s 2ms/step - loss: 0.1996 - accuracy: 0.9434\n",
      "Epoch 10/20\n",
      "469/469 [==============================] - 1s 2ms/step - loss: 0.1907 - accuracy: 0.9462\n",
      "Epoch 11/20\n",
      "469/469 [==============================] - 1s 2ms/step - loss: 0.1832 - accuracy: 0.9481\n",
      "Epoch 12/20\n",
      "469/469 [==============================] - 1s 2ms/step - loss: 0.1762 - accuracy: 0.9504\n",
      "Epoch 13/20\n",
      "469/469 [==============================] - 1s 2ms/step - loss: 0.1706 - accuracy: 0.9515\n",
      "Epoch 14/20\n",
      "469/469 [==============================] - 1s 2ms/step - loss: 0.1651 - accuracy: 0.9526\n",
      "Epoch 15/20\n",
      "469/469 [==============================] - 1s 2ms/step - loss: 0.1601 - accuracy: 0.9542\n",
      "Epoch 16/20\n",
      "469/469 [==============================] - 1s 2ms/step - loss: 0.1561 - accuracy: 0.9549\n",
      "Epoch 17/20\n",
      "469/469 [==============================] - 1s 2ms/step - loss: 0.1519 - accuracy: 0.9567\n",
      "Epoch 18/20\n",
      "469/469 [==============================] - 1s 2ms/step - loss: 0.1482 - accuracy: 0.9577\n",
      "Epoch 19/20\n",
      "469/469 [==============================] - 1s 2ms/step - loss: 0.1449 - accuracy: 0.9582\n",
      "Epoch 20/20\n",
      "469/469 [==============================] - 1s 2ms/step - loss: 0.1419 - accuracy: 0.9592\n"
     ]
    },
    {
     "data": {
      "text/plain": [
       "<keras.callbacks.History at 0x7fcc6c7c1d20>"
      ]
     },
     "execution_count": 136,
     "metadata": {},
     "output_type": "execute_result"
    }
   ],
   "source": [
    "# reshape\n",
    "x_train = x_train.reshape(60000, 784)\n",
    "x_test = x_test.reshape(10000, 784)\n",
    "x_train = x_train.astype('float32')\n",
    "x_test = x_test.astype('float32')\n",
    "x_train /= 255\n",
    "x_test /= 255\n",
    "y_train = tensorflow.keras.utils.to_categorical(y_train, nbClasses)\n",
    "y_test = tensorflow.keras.utils.to_categorical(y_test, nbClasses)\n",
    "\n",
    "# now, let's train for real the network: only 20 epochs and batch size of 128 (so that an epoch contains 60000/128 iterations)\n",
    "model.fit(x_train, y_train, epochs=20, batch_size=128)"
   ]
  },
  {
   "cell_type": "markdown",
   "metadata": {
    "hidden": true
   },
   "source": [
    "Que vaut le score F1?"
   ]
  },
  {
   "cell_type": "code",
   "execution_count": 137,
   "metadata": {
    "hidden": true,
    "scrolled": true
   },
   "outputs": [
    {
     "name": "stdout",
     "output_type": "stream",
     "text": [
      "313/313 [==============================] - 0s 1ms/step\n"
     ]
    }
   ],
   "source": [
    "# f1 score\n",
    "y_pred = model.predict(x_test)\n",
    "#f1 = f1_score(y_test, y_pred, average='macro')"
   ]
  },
  {
   "cell_type": "markdown",
   "metadata": {},
   "source": [
    "# 2. Convergence"
   ]
  },
  {
   "cell_type": "markdown",
   "metadata": {
    "heading_collapsed": true
   },
   "source": [
    "## A t-on laissé le temps à l'algorithme de converger?\n",
    "Modifiez le nombre d'itérations. Les résultats sont-ils meilleurs?"
   ]
  },
  {
   "cell_type": "markdown",
   "metadata": {},
   "source": [
    "Non. L'algo avait déjà convergé."
   ]
  },
  {
   "cell_type": "markdown",
   "metadata": {
    "heading_collapsed": true
   },
   "source": [
    "## Critère d'arrêt autre que le nombre d'itérations"
   ]
  },
  {
   "cell_type": "markdown",
   "metadata": {
    "hidden": true
   },
   "source": [
    "In this small example, we decided, as a default behavior, to stop after 20 epochs. Of course this value can be changed. Another way to deal with that is to use early stopping criterion. All options are described in the keras documentation. Feel free to experiment all options!"
   ]
  },
  {
   "cell_type": "code",
   "execution_count": 139,
   "metadata": {
    "hidden": true
   },
   "outputs": [
    {
     "name": "stdout",
     "output_type": "stream",
     "text": [
      "Epoch 1/2000\n",
      "375/375 [==============================] - 1s 4ms/step - loss: 0.1412 - accuracy: 0.9596 - val_loss: 0.1301 - val_accuracy: 0.9624\n",
      "Epoch 2/2000\n",
      "375/375 [==============================] - 1s 3ms/step - loss: 0.1381 - accuracy: 0.9604 - val_loss: 0.1308 - val_accuracy: 0.9627\n",
      "Epoch 3/2000\n",
      "375/375 [==============================] - 1s 3ms/step - loss: 0.1355 - accuracy: 0.9617 - val_loss: 0.1304 - val_accuracy: 0.9622\n",
      "Epoch 4/2000\n",
      "375/375 [==============================] - 1s 3ms/step - loss: 0.1328 - accuracy: 0.9620 - val_loss: 0.1316 - val_accuracy: 0.9616\n",
      "Epoch 5/2000\n",
      "375/375 [==============================] - 1s 3ms/step - loss: 0.1306 - accuracy: 0.9627 - val_loss: 0.1305 - val_accuracy: 0.9616\n",
      "Epoch 6/2000\n",
      "375/375 [==============================] - 1s 3ms/step - loss: 0.1283 - accuracy: 0.9628 - val_loss: 0.1325 - val_accuracy: 0.9617\n",
      "Epoch 7/2000\n",
      "375/375 [==============================] - 1s 3ms/step - loss: 0.1264 - accuracy: 0.9636 - val_loss: 0.1320 - val_accuracy: 0.9612\n",
      "Epoch 8/2000\n",
      "375/375 [==============================] - 1s 3ms/step - loss: 0.1246 - accuracy: 0.9643 - val_loss: 0.1316 - val_accuracy: 0.9612\n",
      "Epoch 9/2000\n",
      "375/375 [==============================] - 1s 3ms/step - loss: 0.1228 - accuracy: 0.9651 - val_loss: 0.1319 - val_accuracy: 0.9609\n",
      "Epoch 10/2000\n",
      "375/375 [==============================] - 1s 3ms/step - loss: 0.1210 - accuracy: 0.9653 - val_loss: 0.1318 - val_accuracy: 0.9615\n",
      "Epoch 11/2000\n",
      "375/375 [==============================] - 1s 3ms/step - loss: 0.1193 - accuracy: 0.9661 - val_loss: 0.1318 - val_accuracy: 0.9607\n",
      "Epoch 12/2000\n",
      "375/375 [==============================] - 1s 3ms/step - loss: 0.1178 - accuracy: 0.9666 - val_loss: 0.1325 - val_accuracy: 0.9609\n",
      "Epoch 13/2000\n",
      "375/375 [==============================] - 1s 3ms/step - loss: 0.1160 - accuracy: 0.9663 - val_loss: 0.1328 - val_accuracy: 0.9605\n",
      "Epoch 14/2000\n",
      "375/375 [==============================] - 1s 3ms/step - loss: 0.1144 - accuracy: 0.9676 - val_loss: 0.1320 - val_accuracy: 0.9600\n",
      "Epoch 15/2000\n",
      "375/375 [==============================] - 1s 3ms/step - loss: 0.1131 - accuracy: 0.9680 - val_loss: 0.1326 - val_accuracy: 0.9600\n",
      "Epoch 16/2000\n",
      "375/375 [==============================] - 1s 3ms/step - loss: 0.1117 - accuracy: 0.9685 - val_loss: 0.1320 - val_accuracy: 0.9618\n",
      "Epoch 17/2000\n",
      "375/375 [==============================] - 1s 3ms/step - loss: 0.1104 - accuracy: 0.9685 - val_loss: 0.1310 - val_accuracy: 0.9617\n",
      "Epoch 18/2000\n",
      "375/375 [==============================] - 1s 3ms/step - loss: 0.1090 - accuracy: 0.9686 - val_loss: 0.1324 - val_accuracy: 0.9607\n",
      "Epoch 19/2000\n",
      "375/375 [==============================] - 1s 3ms/step - loss: 0.1077 - accuracy: 0.9691 - val_loss: 0.1315 - val_accuracy: 0.9614\n",
      "Epoch 20/2000\n",
      "375/375 [==============================] - 1s 3ms/step - loss: 0.1068 - accuracy: 0.9696 - val_loss: 0.1323 - val_accuracy: 0.9600\n",
      "Epoch 21/2000\n",
      "375/375 [==============================] - 1s 3ms/step - loss: 0.1054 - accuracy: 0.9705 - val_loss: 0.1336 - val_accuracy: 0.9603\n",
      "Epoch 22/2000\n",
      "375/375 [==============================] - 1s 3ms/step - loss: 0.1044 - accuracy: 0.9701 - val_loss: 0.1339 - val_accuracy: 0.9607\n"
     ]
    },
    {
     "data": {
      "text/plain": [
       "<keras.callbacks.History at 0x7fcc6c51c7f0>"
      ]
     },
     "execution_count": 139,
     "metadata": {},
     "output_type": "execute_result"
    }
   ],
   "source": [
    "from tensorflow.keras.callbacks import EarlyStopping\n",
    "\n",
    "# we define a callback function that will control if the accuracy \n",
    "# on the validation set (a part of train set) is not changing more than 10-4 with a patience of 20 iterations\n",
    "# If the last accuracy value is not the best one, we still keep the last results\n",
    "# In this example, we extracted 20% of the train set for the validation set that will be used to monitor the convergence.\n",
    "\n",
    "ourCallback = EarlyStopping(monitor='val_accuracy', min_delta=0.0001, patience=20, verbose=0, mode='auto', baseline=None, restore_best_weights=True)\n",
    "\n",
    "# let's learn the network again !\n",
    "# We do not know when the training will stop but no more than 2000 epochs.\n",
    "model.fit(x_train, y_train, epochs=2000, batch_size=128, validation_split=0.2, callbacks=[ourCallback])\n"
   ]
  },
  {
   "cell_type": "markdown",
   "metadata": {
    "hidden": true
   },
   "source": [
    "A quel 'epoch' l'algorithme s'est-il arrêté ?"
   ]
  },
  {
   "cell_type": "markdown",
   "metadata": {},
   "source": [
    "22"
   ]
  },
  {
   "cell_type": "markdown",
   "metadata": {
    "heading_collapsed": true
   },
   "source": [
    "## Evolution de la convergence"
   ]
  },
  {
   "cell_type": "code",
   "execution_count": 149,
   "metadata": {
    "hidden": true
   },
   "outputs": [],
   "source": [
    "import os\n",
    "import datetime\n",
    "import matplotlib.pyplot as plt\n",
    "from IPython.display import Image\n",
    "from tensorflow.keras.callbacks import EarlyStopping\n",
    "\n",
    "ourCallback = tensorflow.keras.callbacks.EarlyStopping(monitor='val_accuracy', min_delta=0.0001, patience=20, verbose=0, mode='auto', baseline=None, restore_best_weights=False)\n",
    "\n",
    "model.compile(optimizer='rmsprop',loss='categorical_crossentropy', metrics=['accuracy'])"
   ]
  },
  {
   "cell_type": "code",
   "execution_count": 150,
   "metadata": {
    "ExecuteTime": {
     "end_time": "2022-11-14T13:59:17.452295Z",
     "start_time": "2022-11-14T13:59:17.303696Z"
    },
    "hidden": true
   },
   "outputs": [
    {
     "name": "stdout",
     "output_type": "stream",
     "text": [
      "Epoch 1/2000\n",
      "375/375 [==============================] - 2s 4ms/step - loss: 1.2186 - accuracy: 0.7377 - val_loss: 0.6782 - val_accuracy: 0.8762\n",
      "Epoch 2/2000\n",
      "375/375 [==============================] - 1s 3ms/step - loss: 0.5421 - accuracy: 0.8821 - val_loss: 0.4097 - val_accuracy: 0.9031\n",
      "Epoch 3/2000\n",
      "375/375 [==============================] - 1s 3ms/step - loss: 0.3833 - accuracy: 0.9029 - val_loss: 0.3267 - val_accuracy: 0.9156\n",
      "Epoch 4/2000\n",
      "375/375 [==============================] - 1s 3ms/step - loss: 0.3220 - accuracy: 0.9136 - val_loss: 0.2889 - val_accuracy: 0.9211\n",
      "Epoch 5/2000\n",
      "375/375 [==============================] - 1s 3ms/step - loss: 0.2881 - accuracy: 0.9210 - val_loss: 0.2648 - val_accuracy: 0.9277\n",
      "Epoch 6/2000\n",
      "375/375 [==============================] - 1s 3ms/step - loss: 0.2650 - accuracy: 0.9261 - val_loss: 0.2490 - val_accuracy: 0.9327\n",
      "Epoch 7/2000\n",
      "375/375 [==============================] - 1s 3ms/step - loss: 0.2479 - accuracy: 0.9313 - val_loss: 0.2373 - val_accuracy: 0.9335\n",
      "Epoch 8/2000\n",
      "375/375 [==============================] - 1s 3ms/step - loss: 0.2341 - accuracy: 0.9351 - val_loss: 0.2263 - val_accuracy: 0.9367\n",
      "Epoch 9/2000\n",
      "375/375 [==============================] - 1s 3ms/step - loss: 0.2223 - accuracy: 0.9381 - val_loss: 0.2187 - val_accuracy: 0.9397\n",
      "Epoch 10/2000\n",
      "375/375 [==============================] - 1s 3ms/step - loss: 0.2124 - accuracy: 0.9409 - val_loss: 0.2117 - val_accuracy: 0.9402\n",
      "Epoch 11/2000\n",
      "375/375 [==============================] - 1s 3ms/step - loss: 0.2037 - accuracy: 0.9432 - val_loss: 0.2049 - val_accuracy: 0.9442\n",
      "Epoch 12/2000\n",
      "375/375 [==============================] - 1s 3ms/step - loss: 0.1960 - accuracy: 0.9459 - val_loss: 0.1998 - val_accuracy: 0.9435\n",
      "Epoch 13/2000\n",
      "375/375 [==============================] - 1s 3ms/step - loss: 0.1894 - accuracy: 0.9470 - val_loss: 0.1954 - val_accuracy: 0.9454\n",
      "Epoch 14/2000\n",
      "375/375 [==============================] - 1s 3ms/step - loss: 0.1833 - accuracy: 0.9488 - val_loss: 0.1915 - val_accuracy: 0.9466\n",
      "Epoch 15/2000\n",
      "375/375 [==============================] - 1s 3ms/step - loss: 0.1775 - accuracy: 0.9508 - val_loss: 0.1884 - val_accuracy: 0.9467\n",
      "Epoch 16/2000\n",
      "375/375 [==============================] - 1s 3ms/step - loss: 0.1725 - accuracy: 0.9518 - val_loss: 0.1845 - val_accuracy: 0.9471\n",
      "Epoch 17/2000\n",
      "375/375 [==============================] - 1s 3ms/step - loss: 0.1678 - accuracy: 0.9536 - val_loss: 0.1815 - val_accuracy: 0.9482\n",
      "Epoch 18/2000\n",
      "375/375 [==============================] - 1s 3ms/step - loss: 0.1642 - accuracy: 0.9545 - val_loss: 0.1788 - val_accuracy: 0.9485\n",
      "Epoch 19/2000\n",
      "375/375 [==============================] - 1s 3ms/step - loss: 0.1601 - accuracy: 0.9554 - val_loss: 0.1770 - val_accuracy: 0.9488\n",
      "Epoch 20/2000\n",
      "375/375 [==============================] - 1s 3ms/step - loss: 0.1566 - accuracy: 0.9562 - val_loss: 0.1749 - val_accuracy: 0.9494\n",
      "Epoch 21/2000\n",
      "375/375 [==============================] - 1s 3ms/step - loss: 0.1531 - accuracy: 0.9566 - val_loss: 0.1736 - val_accuracy: 0.9510\n",
      "Epoch 22/2000\n",
      "375/375 [==============================] - 1s 3ms/step - loss: 0.1500 - accuracy: 0.9573 - val_loss: 0.1717 - val_accuracy: 0.9504\n",
      "Epoch 23/2000\n",
      "375/375 [==============================] - 1s 3ms/step - loss: 0.1474 - accuracy: 0.9586 - val_loss: 0.1704 - val_accuracy: 0.9507\n",
      "Epoch 24/2000\n",
      "375/375 [==============================] - 1s 3ms/step - loss: 0.1445 - accuracy: 0.9591 - val_loss: 0.1698 - val_accuracy: 0.9501\n",
      "Epoch 25/2000\n",
      "375/375 [==============================] - 1s 3ms/step - loss: 0.1418 - accuracy: 0.9597 - val_loss: 0.1683 - val_accuracy: 0.9520\n",
      "Epoch 26/2000\n",
      "375/375 [==============================] - 1s 3ms/step - loss: 0.1398 - accuracy: 0.9604 - val_loss: 0.1671 - val_accuracy: 0.9511\n",
      "Epoch 27/2000\n",
      "375/375 [==============================] - 1s 3ms/step - loss: 0.1373 - accuracy: 0.9607 - val_loss: 0.1666 - val_accuracy: 0.9513\n",
      "Epoch 28/2000\n",
      "375/375 [==============================] - 1s 3ms/step - loss: 0.1353 - accuracy: 0.9621 - val_loss: 0.1648 - val_accuracy: 0.9532\n",
      "Epoch 29/2000\n",
      "375/375 [==============================] - 1s 3ms/step - loss: 0.1331 - accuracy: 0.9625 - val_loss: 0.1643 - val_accuracy: 0.9521\n",
      "Epoch 30/2000\n",
      "375/375 [==============================] - 1s 3ms/step - loss: 0.1311 - accuracy: 0.9629 - val_loss: 0.1651 - val_accuracy: 0.9511\n",
      "Epoch 31/2000\n",
      "375/375 [==============================] - 1s 3ms/step - loss: 0.1293 - accuracy: 0.9631 - val_loss: 0.1618 - val_accuracy: 0.9534\n",
      "Epoch 32/2000\n",
      "375/375 [==============================] - 1s 3ms/step - loss: 0.1275 - accuracy: 0.9643 - val_loss: 0.1624 - val_accuracy: 0.9533\n",
      "Epoch 33/2000\n",
      "375/375 [==============================] - 1s 3ms/step - loss: 0.1259 - accuracy: 0.9647 - val_loss: 0.1609 - val_accuracy: 0.9541\n",
      "Epoch 34/2000\n",
      "375/375 [==============================] - 1s 3ms/step - loss: 0.1238 - accuracy: 0.9650 - val_loss: 0.1604 - val_accuracy: 0.9537\n",
      "Epoch 35/2000\n",
      "375/375 [==============================] - 1s 3ms/step - loss: 0.1227 - accuracy: 0.9654 - val_loss: 0.1602 - val_accuracy: 0.9540\n",
      "Epoch 36/2000\n",
      "375/375 [==============================] - 1s 3ms/step - loss: 0.1207 - accuracy: 0.9661 - val_loss: 0.1593 - val_accuracy: 0.9541\n",
      "Epoch 37/2000\n",
      "375/375 [==============================] - 1s 3ms/step - loss: 0.1197 - accuracy: 0.9662 - val_loss: 0.1598 - val_accuracy: 0.9539\n",
      "Epoch 38/2000\n",
      "375/375 [==============================] - 1s 3ms/step - loss: 0.1180 - accuracy: 0.9665 - val_loss: 0.1582 - val_accuracy: 0.9547\n",
      "Epoch 39/2000\n",
      "375/375 [==============================] - 1s 3ms/step - loss: 0.1168 - accuracy: 0.9672 - val_loss: 0.1580 - val_accuracy: 0.9542\n",
      "Epoch 40/2000\n",
      "375/375 [==============================] - 1s 3ms/step - loss: 0.1154 - accuracy: 0.9672 - val_loss: 0.1579 - val_accuracy: 0.9541\n",
      "Epoch 41/2000\n",
      "375/375 [==============================] - 1s 3ms/step - loss: 0.1141 - accuracy: 0.9683 - val_loss: 0.1588 - val_accuracy: 0.9541\n",
      "Epoch 42/2000\n",
      "375/375 [==============================] - 1s 3ms/step - loss: 0.1130 - accuracy: 0.9677 - val_loss: 0.1585 - val_accuracy: 0.9545\n",
      "Epoch 43/2000\n",
      "375/375 [==============================] - 1s 3ms/step - loss: 0.1117 - accuracy: 0.9683 - val_loss: 0.1581 - val_accuracy: 0.9548\n",
      "Epoch 44/2000\n",
      "375/375 [==============================] - 1s 3ms/step - loss: 0.1103 - accuracy: 0.9687 - val_loss: 0.1570 - val_accuracy: 0.9542\n",
      "Epoch 45/2000\n",
      "375/375 [==============================] - 1s 3ms/step - loss: 0.1095 - accuracy: 0.9688 - val_loss: 0.1571 - val_accuracy: 0.9550\n",
      "Epoch 46/2000\n",
      "375/375 [==============================] - 1s 3ms/step - loss: 0.1083 - accuracy: 0.9692 - val_loss: 0.1563 - val_accuracy: 0.9541\n",
      "Epoch 47/2000\n",
      "375/375 [==============================] - 1s 3ms/step - loss: 0.1073 - accuracy: 0.9691 - val_loss: 0.1584 - val_accuracy: 0.9541\n",
      "Epoch 48/2000\n",
      "375/375 [==============================] - 1s 3ms/step - loss: 0.1062 - accuracy: 0.9701 - val_loss: 0.1571 - val_accuracy: 0.9557\n",
      "Epoch 49/2000\n",
      "375/375 [==============================] - 1s 3ms/step - loss: 0.1051 - accuracy: 0.9705 - val_loss: 0.1574 - val_accuracy: 0.9548\n",
      "Epoch 50/2000\n",
      "375/375 [==============================] - 1s 3ms/step - loss: 0.1043 - accuracy: 0.9707 - val_loss: 0.1575 - val_accuracy: 0.9562\n",
      "Epoch 51/2000\n",
      "375/375 [==============================] - 1s 3ms/step - loss: 0.1031 - accuracy: 0.9708 - val_loss: 0.1557 - val_accuracy: 0.9555\n",
      "Epoch 52/2000\n",
      "375/375 [==============================] - 1s 2ms/step - loss: 0.1022 - accuracy: 0.9708 - val_loss: 0.1567 - val_accuracy: 0.9553\n",
      "Epoch 53/2000\n",
      "375/375 [==============================] - 1s 2ms/step - loss: 0.1011 - accuracy: 0.9711 - val_loss: 0.1564 - val_accuracy: 0.9559\n",
      "Epoch 54/2000\n",
      "375/375 [==============================] - 1s 2ms/step - loss: 0.1004 - accuracy: 0.9716 - val_loss: 0.1572 - val_accuracy: 0.9552\n",
      "Epoch 55/2000\n",
      "375/375 [==============================] - 1s 2ms/step - loss: 0.0995 - accuracy: 0.9717 - val_loss: 0.1569 - val_accuracy: 0.9561\n",
      "Epoch 56/2000\n",
      "375/375 [==============================] - 1s 3ms/step - loss: 0.0986 - accuracy: 0.9722 - val_loss: 0.1564 - val_accuracy: 0.9561\n",
      "Epoch 57/2000\n",
      "375/375 [==============================] - 1s 2ms/step - loss: 0.0977 - accuracy: 0.9724 - val_loss: 0.1590 - val_accuracy: 0.9551\n",
      "Epoch 58/2000\n",
      "375/375 [==============================] - 1s 2ms/step - loss: 0.0971 - accuracy: 0.9720 - val_loss: 0.1567 - val_accuracy: 0.9557\n",
      "Epoch 59/2000\n",
      "375/375 [==============================] - 1s 2ms/step - loss: 0.0961 - accuracy: 0.9728 - val_loss: 0.1564 - val_accuracy: 0.9559\n",
      "Epoch 60/2000\n",
      "375/375 [==============================] - 1s 2ms/step - loss: 0.0955 - accuracy: 0.9731 - val_loss: 0.1565 - val_accuracy: 0.9553\n",
      "Epoch 61/2000\n",
      "375/375 [==============================] - 1s 2ms/step - loss: 0.0946 - accuracy: 0.9734 - val_loss: 0.1577 - val_accuracy: 0.9563\n",
      "Epoch 62/2000\n",
      "375/375 [==============================] - 1s 2ms/step - loss: 0.0938 - accuracy: 0.9733 - val_loss: 0.1574 - val_accuracy: 0.9556\n",
      "Epoch 63/2000\n",
      "375/375 [==============================] - 1s 2ms/step - loss: 0.0930 - accuracy: 0.9739 - val_loss: 0.1568 - val_accuracy: 0.9556\n",
      "Epoch 64/2000\n",
      "375/375 [==============================] - 1s 2ms/step - loss: 0.0918 - accuracy: 0.9742 - val_loss: 0.1574 - val_accuracy: 0.9557\n",
      "Epoch 65/2000\n",
      "375/375 [==============================] - 1s 3ms/step - loss: 0.0916 - accuracy: 0.9745 - val_loss: 0.1567 - val_accuracy: 0.9561\n",
      "Epoch 66/2000\n",
      "375/375 [==============================] - 1s 2ms/step - loss: 0.0910 - accuracy: 0.9745 - val_loss: 0.1585 - val_accuracy: 0.9551\n",
      "Epoch 67/2000\n",
      "375/375 [==============================] - 1s 3ms/step - loss: 0.0905 - accuracy: 0.9750 - val_loss: 0.1578 - val_accuracy: 0.9561\n",
      "Epoch 68/2000\n",
      "375/375 [==============================] - 1s 3ms/step - loss: 0.0895 - accuracy: 0.9750 - val_loss: 0.1581 - val_accuracy: 0.9563\n",
      "Epoch 69/2000\n",
      "375/375 [==============================] - 1s 3ms/step - loss: 0.0887 - accuracy: 0.9755 - val_loss: 0.1584 - val_accuracy: 0.9557\n",
      "Epoch 70/2000\n",
      "375/375 [==============================] - 1s 3ms/step - loss: 0.0882 - accuracy: 0.9749 - val_loss: 0.1582 - val_accuracy: 0.9552\n",
      "Epoch 71/2000\n",
      "375/375 [==============================] - 1s 3ms/step - loss: 0.0876 - accuracy: 0.9757 - val_loss: 0.1587 - val_accuracy: 0.9567\n",
      "Epoch 72/2000\n",
      "375/375 [==============================] - 1s 3ms/step - loss: 0.0871 - accuracy: 0.9760 - val_loss: 0.1594 - val_accuracy: 0.9555\n",
      "Epoch 73/2000\n",
      "375/375 [==============================] - 1s 3ms/step - loss: 0.0863 - accuracy: 0.9758 - val_loss: 0.1583 - val_accuracy: 0.9561\n",
      "Epoch 74/2000\n",
      "375/375 [==============================] - 1s 3ms/step - loss: 0.0857 - accuracy: 0.9762 - val_loss: 0.1602 - val_accuracy: 0.9553\n",
      "Epoch 75/2000\n",
      "375/375 [==============================] - 1s 3ms/step - loss: 0.0853 - accuracy: 0.9761 - val_loss: 0.1583 - val_accuracy: 0.9549\n",
      "Epoch 76/2000\n",
      "375/375 [==============================] - 1s 3ms/step - loss: 0.0844 - accuracy: 0.9762 - val_loss: 0.1607 - val_accuracy: 0.9553\n",
      "Epoch 77/2000\n",
      "375/375 [==============================] - 1s 3ms/step - loss: 0.0838 - accuracy: 0.9765 - val_loss: 0.1603 - val_accuracy: 0.9557\n",
      "Epoch 78/2000\n",
      "375/375 [==============================] - 1s 3ms/step - loss: 0.0833 - accuracy: 0.9768 - val_loss: 0.1596 - val_accuracy: 0.9561\n",
      "Epoch 79/2000\n",
      "375/375 [==============================] - 1s 3ms/step - loss: 0.0827 - accuracy: 0.9771 - val_loss: 0.1593 - val_accuracy: 0.9562\n",
      "Epoch 80/2000\n",
      "375/375 [==============================] - 1s 3ms/step - loss: 0.0822 - accuracy: 0.9774 - val_loss: 0.1593 - val_accuracy: 0.9557\n",
      "Epoch 81/2000\n",
      "375/375 [==============================] - 1s 3ms/step - loss: 0.0815 - accuracy: 0.9776 - val_loss: 0.1600 - val_accuracy: 0.9563\n",
      "Epoch 82/2000\n",
      "375/375 [==============================] - 1s 3ms/step - loss: 0.0812 - accuracy: 0.9773 - val_loss: 0.1600 - val_accuracy: 0.9560\n",
      "Epoch 83/2000\n",
      "375/375 [==============================] - 1s 3ms/step - loss: 0.0806 - accuracy: 0.9775 - val_loss: 0.1609 - val_accuracy: 0.9542\n",
      "Epoch 84/2000\n",
      "375/375 [==============================] - 1s 3ms/step - loss: 0.0802 - accuracy: 0.9782 - val_loss: 0.1595 - val_accuracy: 0.9558\n",
      "Epoch 85/2000\n",
      "375/375 [==============================] - 1s 2ms/step - loss: 0.0795 - accuracy: 0.9780 - val_loss: 0.1614 - val_accuracy: 0.9553\n",
      "Epoch 86/2000\n",
      "375/375 [==============================] - 1s 2ms/step - loss: 0.0790 - accuracy: 0.9783 - val_loss: 0.1613 - val_accuracy: 0.9557\n",
      "Epoch 87/2000\n",
      "375/375 [==============================] - 1s 3ms/step - loss: 0.0787 - accuracy: 0.9783 - val_loss: 0.1616 - val_accuracy: 0.9541\n",
      "Epoch 88/2000\n",
      "375/375 [==============================] - 1s 2ms/step - loss: 0.0781 - accuracy: 0.9784 - val_loss: 0.1626 - val_accuracy: 0.9556\n",
      "Epoch 89/2000\n",
      "375/375 [==============================] - 1s 2ms/step - loss: 0.0776 - accuracy: 0.9786 - val_loss: 0.1617 - val_accuracy: 0.9557\n",
      "Epoch 90/2000\n",
      "375/375 [==============================] - 1s 2ms/step - loss: 0.0770 - accuracy: 0.9791 - val_loss: 0.1608 - val_accuracy: 0.9559\n",
      "Epoch 91/2000\n",
      "375/375 [==============================] - 1s 3ms/step - loss: 0.0767 - accuracy: 0.9787 - val_loss: 0.1634 - val_accuracy: 0.9545\n"
     ]
    },
    {
     "data": {
      "text/plain": [
       "<Axes: >"
      ]
     },
     "execution_count": 150,
     "metadata": {},
     "output_type": "execute_result"
    },
    {
     "data": {
      "image/png": "[encoded data removed]",
      "text/plain": [
       "<Figure size 640x480 with 1 Axes>"
      ]
     },
     "metadata": {},
     "output_type": "display_data"
    }
   ],
   "source": [
    "from pandas import DataFrame\n",
    "\n",
    "history = model.fit(x_train, y_train, epochs=2000, batch_size=128, validation_split=0.2, callbacks=[ourCallback])\n",
    "DataFrame(history.history).plot()"
   ]
  },
  {
   "cell_type": "markdown",
   "metadata": {
    "heading_collapsed": true
   },
   "source": [
    "# 3. Changements de topologie\n"
   ]
  },
  {
   "cell_type": "markdown",
   "metadata": {
    "hidden": true
   },
   "source": [
    "Est-ce qu'augmenter le nombre de neurones par couche augmente les performances?"
   ]
  },
  {
   "cell_type": "code",
   "execution_count": 152,
   "metadata": {
    "hidden": true
   },
   "outputs": [
    {
     "name": "stdout",
     "output_type": "stream",
     "text": [
      "Epoch 1/25\n",
      "375/375 [==============================] - 2s 3ms/step - loss: 0.9338 - accuracy: 0.7944 - val_loss: 0.4353 - val_accuracy: 0.8974\n",
      "Epoch 2/25\n",
      "375/375 [==============================] - 1s 3ms/step - loss: 0.3798 - accuracy: 0.9013 - val_loss: 0.3078 - val_accuracy: 0.9176\n",
      "Epoch 3/25\n",
      "375/375 [==============================] - 1s 3ms/step - loss: 0.2995 - accuracy: 0.9166 - val_loss: 0.2636 - val_accuracy: 0.9269\n",
      "Epoch 4/25\n",
      "375/375 [==============================] - 1s 3ms/step - loss: 0.2613 - accuracy: 0.9259 - val_loss: 0.2379 - val_accuracy: 0.9338\n",
      "Epoch 5/25\n",
      "375/375 [==============================] - 1s 3ms/step - loss: 0.2354 - accuracy: 0.9326 - val_loss: 0.2210 - val_accuracy: 0.9364\n",
      "Epoch 6/25\n",
      "375/375 [==============================] - 1s 3ms/step - loss: 0.2154 - accuracy: 0.9385 - val_loss: 0.2077 - val_accuracy: 0.9408\n",
      "Epoch 7/25\n",
      "375/375 [==============================] - 1s 3ms/step - loss: 0.1993 - accuracy: 0.9434 - val_loss: 0.1963 - val_accuracy: 0.9450\n",
      "Epoch 8/25\n",
      "375/375 [==============================] - 1s 3ms/step - loss: 0.1855 - accuracy: 0.9472 - val_loss: 0.1852 - val_accuracy: 0.9485\n",
      "Epoch 9/25\n",
      "375/375 [==============================] - 1s 3ms/step - loss: 0.1733 - accuracy: 0.9507 - val_loss: 0.1766 - val_accuracy: 0.9511\n",
      "Epoch 10/25\n",
      "375/375 [==============================] - 1s 3ms/step - loss: 0.1630 - accuracy: 0.9537 - val_loss: 0.1702 - val_accuracy: 0.9535\n",
      "Epoch 11/25\n",
      "375/375 [==============================] - 1s 3ms/step - loss: 0.1539 - accuracy: 0.9561 - val_loss: 0.1642 - val_accuracy: 0.9541\n",
      "Epoch 12/25\n",
      "375/375 [==============================] - 1s 3ms/step - loss: 0.1459 - accuracy: 0.9585 - val_loss: 0.1601 - val_accuracy: 0.9556\n",
      "Epoch 13/25\n",
      "375/375 [==============================] - 1s 3ms/step - loss: 0.1390 - accuracy: 0.9606 - val_loss: 0.1546 - val_accuracy: 0.9561\n",
      "Epoch 14/25\n",
      "375/375 [==============================] - 1s 3ms/step - loss: 0.1323 - accuracy: 0.9625 - val_loss: 0.1499 - val_accuracy: 0.9572\n",
      "Epoch 15/25\n",
      "375/375 [==============================] - 1s 3ms/step - loss: 0.1264 - accuracy: 0.9642 - val_loss: 0.1464 - val_accuracy: 0.9579\n",
      "Epoch 16/25\n",
      "375/375 [==============================] - 1s 3ms/step - loss: 0.1209 - accuracy: 0.9660 - val_loss: 0.1446 - val_accuracy: 0.9598\n",
      "Epoch 17/25\n",
      "375/375 [==============================] - 1s 3ms/step - loss: 0.1163 - accuracy: 0.9669 - val_loss: 0.1405 - val_accuracy: 0.9598\n",
      "Epoch 18/25\n",
      "375/375 [==============================] - 1s 3ms/step - loss: 0.1117 - accuracy: 0.9686 - val_loss: 0.1378 - val_accuracy: 0.9603\n",
      "Epoch 19/25\n",
      "375/375 [==============================] - 1s 3ms/step - loss: 0.1074 - accuracy: 0.9697 - val_loss: 0.1360 - val_accuracy: 0.9604\n",
      "Epoch 20/25\n",
      "375/375 [==============================] - 1s 3ms/step - loss: 0.1036 - accuracy: 0.9710 - val_loss: 0.1350 - val_accuracy: 0.9613\n",
      "Epoch 21/25\n",
      "375/375 [==============================] - 1s 3ms/step - loss: 0.0999 - accuracy: 0.9722 - val_loss: 0.1321 - val_accuracy: 0.9615\n",
      "Epoch 22/25\n",
      "375/375 [==============================] - 1s 3ms/step - loss: 0.0966 - accuracy: 0.9734 - val_loss: 0.1293 - val_accuracy: 0.9617\n",
      "Epoch 23/25\n",
      "375/375 [==============================] - 1s 3ms/step - loss: 0.0933 - accuracy: 0.9740 - val_loss: 0.1287 - val_accuracy: 0.9628\n",
      "Epoch 24/25\n",
      "375/375 [==============================] - 1s 3ms/step - loss: 0.0904 - accuracy: 0.9746 - val_loss: 0.1270 - val_accuracy: 0.9614\n",
      "Epoch 25/25\n",
      "375/375 [==============================] - 1s 3ms/step - loss: 0.0875 - accuracy: 0.9753 - val_loss: 0.1262 - val_accuracy: 0.9621\n",
      "313/313 [==============================] - 1s 2ms/step - loss: 0.1227 - accuracy: 0.9625\n",
      "Test score: 0.12272613495588303\n"
     ]
    }
   ],
   "source": [
    "model = Sequential()\n",
    "model.add(Dense(nbNeuronsHL * 2, input_dim=784, activation='sigmoid'))\n",
    "model.add(Dense(nbClasses, activation='softmax'))\n",
    "model.compile(optimizer='rmsprop', loss='categorical_crossentropy', metrics=['accuracy'])\n",
    "\n",
    "model.fit(x_train, y_train, epochs=25, batch_size=128, validation_split=0.2)\n",
    "print(\"Test score:\", model.evaluate(x_test, y_test)[0])"
   ]
  },
  {
   "cell_type": "markdown",
   "metadata": {
    "hidden": true
   },
   "source": [
    "Est-ce qu'augmenter le nombre de couches de neurones augmente les performances?"
   ]
  },
  {
   "cell_type": "code",
   "execution_count": 153,
   "metadata": {
    "hidden": true
   },
   "outputs": [
    {
     "name": "stdout",
     "output_type": "stream",
     "text": [
      "Epoch 1/25\n",
      "375/375 [==============================] - 2s 4ms/step - loss: 1.7340 - accuracy: 0.6306 - val_loss: 1.1824 - val_accuracy: 0.7987\n",
      "Epoch 2/25\n",
      "375/375 [==============================] - 1s 3ms/step - loss: 0.8753 - accuracy: 0.8350 - val_loss: 0.6243 - val_accuracy: 0.8735\n",
      "Epoch 3/25\n",
      "375/375 [==============================] - 1s 3ms/step - loss: 0.5254 - accuracy: 0.8805 - val_loss: 0.4182 - val_accuracy: 0.8986\n",
      "Epoch 4/25\n",
      "375/375 [==============================] - 1s 3ms/step - loss: 0.3897 - accuracy: 0.9001 - val_loss: 0.3388 - val_accuracy: 0.9101\n",
      "Epoch 5/25\n",
      "375/375 [==============================] - 1s 3ms/step - loss: 0.3276 - accuracy: 0.9124 - val_loss: 0.2971 - val_accuracy: 0.9188\n",
      "Epoch 6/25\n",
      "375/375 [==============================] - 1s 3ms/step - loss: 0.2910 - accuracy: 0.9209 - val_loss: 0.2722 - val_accuracy: 0.9243\n",
      "Epoch 7/25\n",
      "375/375 [==============================] - 1s 3ms/step - loss: 0.2655 - accuracy: 0.9267 - val_loss: 0.2525 - val_accuracy: 0.9291\n",
      "Epoch 8/25\n",
      "375/375 [==============================] - 1s 3ms/step - loss: 0.2458 - accuracy: 0.9316 - val_loss: 0.2370 - val_accuracy: 0.9331\n",
      "Epoch 9/25\n",
      "375/375 [==============================] - 1s 3ms/step - loss: 0.2298 - accuracy: 0.9357 - val_loss: 0.2265 - val_accuracy: 0.9352\n",
      "Epoch 10/25\n",
      "375/375 [==============================] - 1s 3ms/step - loss: 0.2168 - accuracy: 0.9386 - val_loss: 0.2166 - val_accuracy: 0.9379\n",
      "Epoch 11/25\n",
      "375/375 [==============================] - 1s 3ms/step - loss: 0.2052 - accuracy: 0.9423 - val_loss: 0.2079 - val_accuracy: 0.9403\n",
      "Epoch 12/25\n",
      "375/375 [==============================] - 1s 3ms/step - loss: 0.1951 - accuracy: 0.9445 - val_loss: 0.2015 - val_accuracy: 0.9424\n",
      "Epoch 13/25\n",
      "375/375 [==============================] - 1s 3ms/step - loss: 0.1868 - accuracy: 0.9472 - val_loss: 0.1953 - val_accuracy: 0.9447\n",
      "Epoch 14/25\n",
      "375/375 [==============================] - 1s 3ms/step - loss: 0.1793 - accuracy: 0.9491 - val_loss: 0.1901 - val_accuracy: 0.9461\n",
      "Epoch 15/25\n",
      "375/375 [==============================] - 1s 3ms/step - loss: 0.1723 - accuracy: 0.9510 - val_loss: 0.1858 - val_accuracy: 0.9481\n",
      "Epoch 16/25\n",
      "375/375 [==============================] - 1s 3ms/step - loss: 0.1664 - accuracy: 0.9523 - val_loss: 0.1826 - val_accuracy: 0.9484\n",
      "Epoch 17/25\n",
      "375/375 [==============================] - 1s 3ms/step - loss: 0.1610 - accuracy: 0.9536 - val_loss: 0.1785 - val_accuracy: 0.9492\n",
      "Epoch 18/25\n",
      "375/375 [==============================] - 1s 3ms/step - loss: 0.1556 - accuracy: 0.9557 - val_loss: 0.1775 - val_accuracy: 0.9498\n",
      "Epoch 19/25\n",
      "375/375 [==============================] - 1s 3ms/step - loss: 0.1511 - accuracy: 0.9563 - val_loss: 0.1743 - val_accuracy: 0.9517\n",
      "Epoch 20/25\n",
      "375/375 [==============================] - 1s 3ms/step - loss: 0.1469 - accuracy: 0.9578 - val_loss: 0.1701 - val_accuracy: 0.9529\n",
      "Epoch 21/25\n",
      "375/375 [==============================] - 1s 3ms/step - loss: 0.1429 - accuracy: 0.9589 - val_loss: 0.1713 - val_accuracy: 0.9519\n",
      "Epoch 22/25\n",
      "375/375 [==============================] - 1s 3ms/step - loss: 0.1390 - accuracy: 0.9598 - val_loss: 0.1688 - val_accuracy: 0.9540\n",
      "Epoch 23/25\n",
      "375/375 [==============================] - 1s 3ms/step - loss: 0.1357 - accuracy: 0.9610 - val_loss: 0.1638 - val_accuracy: 0.9546\n",
      "Epoch 24/25\n",
      "375/375 [==============================] - 1s 3ms/step - loss: 0.1321 - accuracy: 0.9619 - val_loss: 0.1620 - val_accuracy: 0.9547\n",
      "Epoch 25/25\n",
      "375/375 [==============================] - 1s 3ms/step - loss: 0.1290 - accuracy: 0.9628 - val_loss: 0.1616 - val_accuracy: 0.9550\n",
      "313/313 [==============================] - 1s 2ms/step - loss: 0.1621 - accuracy: 0.9546\n",
      "Test score: 0.1621023714542389\n"
     ]
    }
   ],
   "source": [
    "model = Sequential()\n",
    "model.add(Dense(nbNeuronsHL, input_dim=784, activation='sigmoid'))\n",
    "model.add(Dense(nbNeuronsHL, activation='sigmoid'))\n",
    "model.add(Dense(nbClasses, activation='softmax'))\n",
    "model.compile(optimizer='rmsprop', loss='categorical_crossentropy', metrics=['accuracy'])\n",
    "\n",
    "model.fit(x_train, y_train, epochs=25, batch_size=128, validation_split=0.2)\n",
    "print(\"Test score:\", model.evaluate(x_test, y_test)[0])"
   ]
  },
  {
   "cell_type": "markdown",
   "metadata": {
    "hidden": true
   },
   "source": [
    "Si vous observez qu'en augmentant le nombre de couches cachées, les performances chutent, essayez de remplacer l'activiation 'sigmoid' par 'relu'. Est-ce mieux ?"
   ]
  },
  {
   "cell_type": "code",
   "execution_count": 154,
   "metadata": {
    "hidden": true
   },
   "outputs": [
    {
     "name": "stdout",
     "output_type": "stream",
     "text": [
      "Epoch 1/25\n",
      "375/375 [==============================] - 2s 3ms/step - loss: 0.6663 - accuracy: 0.8129 - val_loss: 0.3160 - val_accuracy: 0.9122\n",
      "Epoch 2/25\n",
      "375/375 [==============================] - 1s 3ms/step - loss: 0.2876 - accuracy: 0.9183 - val_loss: 0.2563 - val_accuracy: 0.9261\n",
      "Epoch 3/25\n",
      "375/375 [==============================] - 1s 3ms/step - loss: 0.2373 - accuracy: 0.9327 - val_loss: 0.2106 - val_accuracy: 0.9408\n",
      "Epoch 4/25\n",
      "375/375 [==============================] - 1s 3ms/step - loss: 0.2095 - accuracy: 0.9404 - val_loss: 0.1960 - val_accuracy: 0.9456\n",
      "Epoch 5/25\n",
      "375/375 [==============================] - 1s 3ms/step - loss: 0.1915 - accuracy: 0.9454 - val_loss: 0.1826 - val_accuracy: 0.9495\n",
      "Epoch 6/25\n",
      "375/375 [==============================] - 1s 3ms/step - loss: 0.1760 - accuracy: 0.9500 - val_loss: 0.1728 - val_accuracy: 0.9513\n",
      "Epoch 7/25\n",
      "375/375 [==============================] - 1s 3ms/step - loss: 0.1643 - accuracy: 0.9525 - val_loss: 0.1671 - val_accuracy: 0.9517\n",
      "Epoch 8/25\n",
      "375/375 [==============================] - 1s 3ms/step - loss: 0.1547 - accuracy: 0.9550 - val_loss: 0.1583 - val_accuracy: 0.9548\n",
      "Epoch 9/25\n",
      "375/375 [==============================] - 1s 3ms/step - loss: 0.1462 - accuracy: 0.9577 - val_loss: 0.1588 - val_accuracy: 0.9546\n",
      "Epoch 10/25\n",
      "375/375 [==============================] - 1s 3ms/step - loss: 0.1393 - accuracy: 0.9599 - val_loss: 0.1561 - val_accuracy: 0.9571\n",
      "Epoch 11/25\n",
      "375/375 [==============================] - 1s 3ms/step - loss: 0.1328 - accuracy: 0.9617 - val_loss: 0.1558 - val_accuracy: 0.9547\n",
      "Epoch 12/25\n",
      "375/375 [==============================] - 1s 3ms/step - loss: 0.1272 - accuracy: 0.9634 - val_loss: 0.1594 - val_accuracy: 0.9549\n",
      "Epoch 13/25\n",
      "375/375 [==============================] - 1s 3ms/step - loss: 0.1218 - accuracy: 0.9651 - val_loss: 0.1566 - val_accuracy: 0.9556\n",
      "Epoch 14/25\n",
      "375/375 [==============================] - 1s 3ms/step - loss: 0.1171 - accuracy: 0.9664 - val_loss: 0.1532 - val_accuracy: 0.9578\n",
      "Epoch 15/25\n",
      "375/375 [==============================] - 1s 3ms/step - loss: 0.1124 - accuracy: 0.9673 - val_loss: 0.1465 - val_accuracy: 0.9588\n",
      "Epoch 16/25\n",
      "375/375 [==============================] - 1s 3ms/step - loss: 0.1091 - accuracy: 0.9674 - val_loss: 0.1487 - val_accuracy: 0.9582\n",
      "Epoch 17/25\n",
      "375/375 [==============================] - 1s 3ms/step - loss: 0.1056 - accuracy: 0.9694 - val_loss: 0.1442 - val_accuracy: 0.9596\n",
      "Epoch 18/25\n",
      "375/375 [==============================] - 1s 3ms/step - loss: 0.1026 - accuracy: 0.9701 - val_loss: 0.1454 - val_accuracy: 0.9617\n",
      "Epoch 19/25\n",
      "375/375 [==============================] - 1s 3ms/step - loss: 0.0993 - accuracy: 0.9706 - val_loss: 0.1477 - val_accuracy: 0.9585\n",
      "Epoch 20/25\n",
      "375/375 [==============================] - 1s 3ms/step - loss: 0.0964 - accuracy: 0.9718 - val_loss: 0.1436 - val_accuracy: 0.9613\n",
      "Epoch 21/25\n",
      "375/375 [==============================] - 1s 3ms/step - loss: 0.0939 - accuracy: 0.9728 - val_loss: 0.1507 - val_accuracy: 0.9596\n",
      "Epoch 22/25\n",
      "375/375 [==============================] - 1s 3ms/step - loss: 0.0913 - accuracy: 0.9735 - val_loss: 0.1407 - val_accuracy: 0.9620\n",
      "Epoch 23/25\n",
      "375/375 [==============================] - 1s 3ms/step - loss: 0.0888 - accuracy: 0.9748 - val_loss: 0.1547 - val_accuracy: 0.9595\n",
      "Epoch 24/25\n",
      "375/375 [==============================] - 1s 3ms/step - loss: 0.0866 - accuracy: 0.9748 - val_loss: 0.1456 - val_accuracy: 0.9630\n",
      "Epoch 25/25\n",
      "375/375 [==============================] - 1s 3ms/step - loss: 0.0848 - accuracy: 0.9755 - val_loss: 0.1438 - val_accuracy: 0.9619\n",
      "313/313 [==============================] - 1s 2ms/step - loss: 0.1436 - accuracy: 0.9611\n",
      "Test score: 0.14361977577209473\n"
     ]
    }
   ],
   "source": [
    "model = Sequential()\n",
    "model.add(Dense(nbNeuronsHL, input_dim=784, activation='relu'))\n",
    "model.add(Dense(nbNeuronsHL, activation='relu'))\n",
    "model.add(Dense(nbClasses, activation='softmax'))\n",
    "model.compile(optimizer='rmsprop', loss='categorical_crossentropy', metrics=['accuracy'])\n",
    "\n",
    "model.fit(x_train, y_train, epochs=25, batch_size=128, validation_split=0.2)\n",
    "print(\"Test score:\", model.evaluate(x_test, y_test)[0])"
   ]
  },
  {
   "cell_type": "markdown",
   "metadata": {
    "heading_collapsed": true
   },
   "source": [
    "# 4. Modifiez les données en considérant FMNIST (Fashion MNIST)"
   ]
  },
  {
   "cell_type": "code",
   "execution_count": 159,
   "metadata": {
    "hidden": true
   },
   "outputs": [
    {
     "name": "stdout",
     "output_type": "stream",
     "text": [
      "shape of x_train: (60000, 28, 28)\n",
      "shape of y_train: (60000,)\n",
      "Epoch 1/100\n",
      "375/375 [==============================] - 2s 5ms/step - loss: 0.5848 - accuracy: 0.7946 - val_loss: 0.4564 - val_accuracy: 0.8338\n",
      "Epoch 2/100\n",
      "375/375 [==============================] - 2s 5ms/step - loss: 0.4074 - accuracy: 0.8517 - val_loss: 0.3840 - val_accuracy: 0.8587\n",
      "Epoch 3/100\n",
      "375/375 [==============================] - 2s 5ms/step - loss: 0.3598 - accuracy: 0.8668 - val_loss: 0.3625 - val_accuracy: 0.8669\n",
      "Epoch 4/100\n",
      "375/375 [==============================] - 2s 5ms/step - loss: 0.3269 - accuracy: 0.8800 - val_loss: 0.3402 - val_accuracy: 0.8791\n",
      "Epoch 5/100\n",
      "375/375 [==============================] - 2s 5ms/step - loss: 0.3081 - accuracy: 0.8863 - val_loss: 0.3252 - val_accuracy: 0.8852\n",
      "Epoch 6/100\n",
      "375/375 [==============================] - 2s 4ms/step - loss: 0.2916 - accuracy: 0.8909 - val_loss: 0.3116 - val_accuracy: 0.8862\n",
      "Epoch 7/100\n",
      "375/375 [==============================] - 1s 4ms/step - loss: 0.2742 - accuracy: 0.8976 - val_loss: 0.3302 - val_accuracy: 0.8830\n",
      "Epoch 8/100\n",
      "375/375 [==============================] - 1s 4ms/step - loss: 0.2618 - accuracy: 0.9034 - val_loss: 0.3346 - val_accuracy: 0.8812\n",
      "Epoch 9/100\n",
      "375/375 [==============================] - 2s 4ms/step - loss: 0.2529 - accuracy: 0.9068 - val_loss: 0.3263 - val_accuracy: 0.8851\n",
      "Epoch 10/100\n",
      "375/375 [==============================] - 2s 4ms/step - loss: 0.2416 - accuracy: 0.9100 - val_loss: 0.3211 - val_accuracy: 0.8892\n",
      "Epoch 11/100\n",
      "375/375 [==============================] - 1s 4ms/step - loss: 0.2333 - accuracy: 0.9128 - val_loss: 0.3090 - val_accuracy: 0.8947\n",
      "Epoch 12/100\n",
      "375/375 [==============================] - 1s 4ms/step - loss: 0.2239 - accuracy: 0.9158 - val_loss: 0.3240 - val_accuracy: 0.8892\n",
      "Epoch 13/100\n",
      "375/375 [==============================] - 2s 4ms/step - loss: 0.2167 - accuracy: 0.9199 - val_loss: 0.3221 - val_accuracy: 0.8903\n",
      "Epoch 14/100\n",
      "375/375 [==============================] - 1s 4ms/step - loss: 0.2103 - accuracy: 0.9213 - val_loss: 0.3072 - val_accuracy: 0.8907\n",
      "Epoch 15/100\n",
      "375/375 [==============================] - 1s 4ms/step - loss: 0.2024 - accuracy: 0.9256 - val_loss: 0.3178 - val_accuracy: 0.8909\n",
      "Epoch 16/100\n",
      "375/375 [==============================] - 1s 4ms/step - loss: 0.1962 - accuracy: 0.9266 - val_loss: 0.3134 - val_accuracy: 0.8963\n",
      "Epoch 17/100\n",
      "375/375 [==============================] - 1s 4ms/step - loss: 0.1901 - accuracy: 0.9289 - val_loss: 0.3317 - val_accuracy: 0.8903\n",
      "Epoch 18/100\n",
      "375/375 [==============================] - 1s 4ms/step - loss: 0.1833 - accuracy: 0.9322 - val_loss: 0.3315 - val_accuracy: 0.8888\n",
      "Epoch 19/100\n",
      "375/375 [==============================] - 2s 4ms/step - loss: 0.1773 - accuracy: 0.9350 - val_loss: 0.3436 - val_accuracy: 0.8883\n",
      "Epoch 20/100\n",
      "375/375 [==============================] - 2s 4ms/step - loss: 0.1749 - accuracy: 0.9351 - val_loss: 0.3411 - val_accuracy: 0.8925\n",
      "Epoch 21/100\n",
      "375/375 [==============================] - 1s 4ms/step - loss: 0.1691 - accuracy: 0.9369 - val_loss: 0.3375 - val_accuracy: 0.8947\n",
      "Epoch 22/100\n",
      "375/375 [==============================] - 1s 4ms/step - loss: 0.1638 - accuracy: 0.9385 - val_loss: 0.3570 - val_accuracy: 0.8928\n",
      "Epoch 23/100\n",
      "375/375 [==============================] - 1s 4ms/step - loss: 0.1584 - accuracy: 0.9414 - val_loss: 0.3626 - val_accuracy: 0.8914\n",
      "Epoch 24/100\n",
      "375/375 [==============================] - 1s 4ms/step - loss: 0.1541 - accuracy: 0.9443 - val_loss: 0.3466 - val_accuracy: 0.8923\n",
      "Epoch 25/100\n",
      "375/375 [==============================] - 2s 4ms/step - loss: 0.1501 - accuracy: 0.9452 - val_loss: 0.3418 - val_accuracy: 0.8947\n",
      "Epoch 26/100\n",
      "375/375 [==============================] - 1s 4ms/step - loss: 0.1474 - accuracy: 0.9455 - val_loss: 0.3727 - val_accuracy: 0.8885\n",
      "Epoch 27/100\n",
      "375/375 [==============================] - 1s 4ms/step - loss: 0.1432 - accuracy: 0.9475 - val_loss: 0.3582 - val_accuracy: 0.8950\n",
      "Epoch 28/100\n",
      "375/375 [==============================] - 1s 4ms/step - loss: 0.1398 - accuracy: 0.9485 - val_loss: 0.3634 - val_accuracy: 0.8942\n",
      "Epoch 29/100\n",
      "375/375 [==============================] - 1s 4ms/step - loss: 0.1353 - accuracy: 0.9498 - val_loss: 0.3751 - val_accuracy: 0.8926\n",
      "Epoch 30/100\n",
      "375/375 [==============================] - 1s 4ms/step - loss: 0.1339 - accuracy: 0.9511 - val_loss: 0.3869 - val_accuracy: 0.8907\n",
      "Epoch 31/100\n",
      "375/375 [==============================] - 2s 4ms/step - loss: 0.1294 - accuracy: 0.9525 - val_loss: 0.3711 - val_accuracy: 0.8982\n",
      "Epoch 32/100\n",
      "375/375 [==============================] - 2s 4ms/step - loss: 0.1256 - accuracy: 0.9534 - val_loss: 0.3958 - val_accuracy: 0.8894\n",
      "Epoch 33/100\n",
      "375/375 [==============================] - 2s 4ms/step - loss: 0.1225 - accuracy: 0.9544 - val_loss: 0.4133 - val_accuracy: 0.8830\n",
      "Epoch 34/100\n",
      "375/375 [==============================] - 1s 4ms/step - loss: 0.1189 - accuracy: 0.9565 - val_loss: 0.3955 - val_accuracy: 0.8924\n",
      "Epoch 35/100\n",
      "375/375 [==============================] - 2s 4ms/step - loss: 0.1170 - accuracy: 0.9571 - val_loss: 0.4068 - val_accuracy: 0.8939\n",
      "Epoch 36/100\n",
      "375/375 [==============================] - 1s 4ms/step - loss: 0.1143 - accuracy: 0.9582 - val_loss: 0.4344 - val_accuracy: 0.8884\n",
      "Epoch 37/100\n",
      "375/375 [==============================] - 1s 4ms/step - loss: 0.1120 - accuracy: 0.9596 - val_loss: 0.4540 - val_accuracy: 0.8892\n",
      "Epoch 38/100\n",
      "375/375 [==============================] - 2s 4ms/step - loss: 0.1119 - accuracy: 0.9589 - val_loss: 0.4148 - val_accuracy: 0.8933\n",
      "Epoch 39/100\n",
      "375/375 [==============================] - 2s 4ms/step - loss: 0.1067 - accuracy: 0.9611 - val_loss: 0.4134 - val_accuracy: 0.8965\n",
      "Epoch 40/100\n",
      "375/375 [==============================] - 1s 4ms/step - loss: 0.1056 - accuracy: 0.9618 - val_loss: 0.4462 - val_accuracy: 0.8869\n",
      "Epoch 41/100\n",
      "375/375 [==============================] - 1s 4ms/step - loss: 0.1024 - accuracy: 0.9625 - val_loss: 0.4499 - val_accuracy: 0.8892\n",
      "Epoch 42/100\n",
      "375/375 [==============================] - 2s 4ms/step - loss: 0.0987 - accuracy: 0.9647 - val_loss: 0.4253 - val_accuracy: 0.8936\n",
      "Epoch 43/100\n",
      "375/375 [==============================] - 2s 4ms/step - loss: 0.0968 - accuracy: 0.9638 - val_loss: 0.4955 - val_accuracy: 0.8838\n",
      "Epoch 44/100\n",
      "375/375 [==============================] - 1s 4ms/step - loss: 0.0946 - accuracy: 0.9657 - val_loss: 0.4706 - val_accuracy: 0.8885\n",
      "Epoch 45/100\n",
      "375/375 [==============================] - 2s 4ms/step - loss: 0.0936 - accuracy: 0.9661 - val_loss: 0.4755 - val_accuracy: 0.8905\n",
      "Epoch 46/100\n",
      "375/375 [==============================] - 1s 4ms/step - loss: 0.0908 - accuracy: 0.9674 - val_loss: 0.4472 - val_accuracy: 0.8908\n",
      "Epoch 47/100\n",
      "375/375 [==============================] - 1s 4ms/step - loss: 0.0892 - accuracy: 0.9673 - val_loss: 0.4757 - val_accuracy: 0.8904\n",
      "Epoch 48/100\n",
      "375/375 [==============================] - 1s 4ms/step - loss: 0.0883 - accuracy: 0.9678 - val_loss: 0.4768 - val_accuracy: 0.8928\n",
      "Epoch 49/100\n",
      "375/375 [==============================] - 2s 4ms/step - loss: 0.0851 - accuracy: 0.9679 - val_loss: 0.5095 - val_accuracy: 0.8904\n",
      "Epoch 50/100\n",
      "375/375 [==============================] - 1s 4ms/step - loss: 0.0847 - accuracy: 0.9694 - val_loss: 0.4705 - val_accuracy: 0.8940\n",
      "Epoch 51/100\n",
      "375/375 [==============================] - 2s 4ms/step - loss: 0.0844 - accuracy: 0.9699 - val_loss: 0.4828 - val_accuracy: 0.8927\n",
      "Epoch 52/100\n",
      "375/375 [==============================] - 1s 4ms/step - loss: 0.0818 - accuracy: 0.9702 - val_loss: 0.5196 - val_accuracy: 0.8845\n",
      "Epoch 53/100\n",
      "375/375 [==============================] - 2s 4ms/step - loss: 0.0781 - accuracy: 0.9718 - val_loss: 0.5104 - val_accuracy: 0.8882\n",
      "Epoch 54/100\n",
      "375/375 [==============================] - 1s 4ms/step - loss: 0.0780 - accuracy: 0.9716 - val_loss: 0.5063 - val_accuracy: 0.8898\n",
      "Epoch 55/100\n",
      "375/375 [==============================] - 1s 4ms/step - loss: 0.0777 - accuracy: 0.9716 - val_loss: 0.5009 - val_accuracy: 0.8918\n",
      "Epoch 56/100\n",
      "375/375 [==============================] - 2s 4ms/step - loss: 0.0745 - accuracy: 0.9741 - val_loss: 0.5459 - val_accuracy: 0.8929\n",
      "Epoch 57/100\n",
      "375/375 [==============================] - 2s 4ms/step - loss: 0.0740 - accuracy: 0.9731 - val_loss: 0.5352 - val_accuracy: 0.8892\n",
      "Epoch 58/100\n",
      "375/375 [==============================] - 2s 4ms/step - loss: 0.0724 - accuracy: 0.9742 - val_loss: 0.5222 - val_accuracy: 0.8916\n",
      "Epoch 59/100\n",
      "375/375 [==============================] - 1s 4ms/step - loss: 0.0708 - accuracy: 0.9749 - val_loss: 0.5327 - val_accuracy: 0.8910\n",
      "Epoch 60/100\n",
      "375/375 [==============================] - 1s 4ms/step - loss: 0.0716 - accuracy: 0.9741 - val_loss: 0.5300 - val_accuracy: 0.8955\n",
      "Epoch 61/100\n",
      "375/375 [==============================] - 2s 4ms/step - loss: 0.0693 - accuracy: 0.9747 - val_loss: 0.5623 - val_accuracy: 0.8913\n",
      "Epoch 62/100\n",
      "375/375 [==============================] - 1s 4ms/step - loss: 0.0693 - accuracy: 0.9760 - val_loss: 0.5322 - val_accuracy: 0.8948\n",
      "Epoch 63/100\n",
      "375/375 [==============================] - 1s 4ms/step - loss: 0.0682 - accuracy: 0.9756 - val_loss: 0.5354 - val_accuracy: 0.8923\n",
      "Epoch 64/100\n",
      "375/375 [==============================] - 2s 4ms/step - loss: 0.0679 - accuracy: 0.9763 - val_loss: 0.6053 - val_accuracy: 0.8917\n",
      "Epoch 65/100\n",
      "375/375 [==============================] - 2s 4ms/step - loss: 0.0636 - accuracy: 0.9771 - val_loss: 0.5755 - val_accuracy: 0.8915\n",
      "Epoch 66/100\n",
      "375/375 [==============================] - 1s 4ms/step - loss: 0.0667 - accuracy: 0.9769 - val_loss: 0.5611 - val_accuracy: 0.8963\n",
      "Epoch 67/100\n",
      "375/375 [==============================] - 2s 4ms/step - loss: 0.0623 - accuracy: 0.9780 - val_loss: 0.5660 - val_accuracy: 0.8932\n",
      "Epoch 68/100\n",
      "375/375 [==============================] - 2s 4ms/step - loss: 0.0599 - accuracy: 0.9789 - val_loss: 0.5783 - val_accuracy: 0.8938\n",
      "Epoch 69/100\n",
      "375/375 [==============================] - 2s 4ms/step - loss: 0.0589 - accuracy: 0.9791 - val_loss: 0.5809 - val_accuracy: 0.8923\n",
      "Epoch 70/100\n",
      "375/375 [==============================] - 2s 4ms/step - loss: 0.0580 - accuracy: 0.9794 - val_loss: 0.6102 - val_accuracy: 0.8937\n",
      "Epoch 71/100\n",
      "375/375 [==============================] - 1s 4ms/step - loss: 0.0603 - accuracy: 0.9790 - val_loss: 0.5936 - val_accuracy: 0.8943\n",
      "Epoch 72/100\n",
      "375/375 [==============================] - 1s 4ms/step - loss: 0.0580 - accuracy: 0.9795 - val_loss: 0.5731 - val_accuracy: 0.8938\n",
      "Epoch 73/100\n",
      "375/375 [==============================] - 1s 4ms/step - loss: 0.0572 - accuracy: 0.9805 - val_loss: 0.5899 - val_accuracy: 0.8967\n",
      "Epoch 74/100\n",
      "375/375 [==============================] - 2s 4ms/step - loss: 0.0589 - accuracy: 0.9790 - val_loss: 0.6711 - val_accuracy: 0.8856\n",
      "Epoch 75/100\n",
      "375/375 [==============================] - 1s 4ms/step - loss: 0.0564 - accuracy: 0.9808 - val_loss: 0.6479 - val_accuracy: 0.8932\n",
      "Epoch 76/100\n",
      "375/375 [==============================] - 2s 4ms/step - loss: 0.0565 - accuracy: 0.9801 - val_loss: 0.6076 - val_accuracy: 0.8926\n",
      "Epoch 77/100\n",
      "375/375 [==============================] - 1s 4ms/step - loss: 0.0522 - accuracy: 0.9819 - val_loss: 0.6414 - val_accuracy: 0.8897\n",
      "Epoch 78/100\n",
      "375/375 [==============================] - 1s 4ms/step - loss: 0.0555 - accuracy: 0.9804 - val_loss: 0.6125 - val_accuracy: 0.8975\n",
      "Epoch 79/100\n",
      "375/375 [==============================] - 2s 4ms/step - loss: 0.0491 - accuracy: 0.9827 - val_loss: 0.6451 - val_accuracy: 0.8970\n",
      "Epoch 80/100\n",
      "375/375 [==============================] - 1s 4ms/step - loss: 0.0523 - accuracy: 0.9820 - val_loss: 0.6149 - val_accuracy: 0.8940\n",
      "Epoch 81/100\n",
      "375/375 [==============================] - 2s 4ms/step - loss: 0.0526 - accuracy: 0.9817 - val_loss: 0.6288 - val_accuracy: 0.8955\n",
      "Epoch 82/100\n",
      "375/375 [==============================] - 1s 4ms/step - loss: 0.0511 - accuracy: 0.9818 - val_loss: 0.6178 - val_accuracy: 0.8973\n",
      "Epoch 83/100\n",
      "375/375 [==============================] - 1s 4ms/step - loss: 0.0507 - accuracy: 0.9825 - val_loss: 0.6299 - val_accuracy: 0.8944\n",
      "Epoch 84/100\n",
      "375/375 [==============================] - 2s 4ms/step - loss: 0.0470 - accuracy: 0.9841 - val_loss: 0.7273 - val_accuracy: 0.8909\n",
      "Epoch 85/100\n",
      "375/375 [==============================] - 1s 4ms/step - loss: 0.0494 - accuracy: 0.9831 - val_loss: 0.6440 - val_accuracy: 0.8951\n",
      "Epoch 86/100\n",
      "100/375 [=======>......................] - ETA: 0s - loss: 0.0471 - accuracy: 0.9832"
     ]
    },
    {
     "ename": "KeyboardInterrupt",
     "evalue": "",
     "output_type": "error",
     "traceback": [
      "\u001b[0;31m---------------------------------------------------------------------------\u001b[0m",
      "\u001b[0;31mKeyboardInterrupt\u001b[0m                         Traceback (most recent call last)",
      "Cell \u001b[0;32mIn[159], line 27\u001b[0m\n\u001b[1;32m     24\u001b[0m y_train \u001b[39m=\u001b[39m tensorflow\u001b[39m.\u001b[39mkeras\u001b[39m.\u001b[39mutils\u001b[39m.\u001b[39mto_categorical(y_train, nbClasses)\n\u001b[1;32m     25\u001b[0m y_test \u001b[39m=\u001b[39m tensorflow\u001b[39m.\u001b[39mkeras\u001b[39m.\u001b[39mutils\u001b[39m.\u001b[39mto_categorical(y_test, nbClasses)\n\u001b[0;32m---> 27\u001b[0m model\u001b[39m.\u001b[39;49mfit(x_train, y_train, epochs\u001b[39m=\u001b[39;49m\u001b[39m100\u001b[39;49m, batch_size\u001b[39m=\u001b[39;49m\u001b[39m128\u001b[39;49m, validation_split\u001b[39m=\u001b[39;49m\u001b[39m0.2\u001b[39;49m)\n\u001b[1;32m     29\u001b[0m \u001b[39mprint\u001b[39m(\u001b[39m\"\u001b[39m\u001b[39mTest score:\u001b[39m\u001b[39m\"\u001b[39m, model\u001b[39m.\u001b[39mevaluate(x_test, y_test)[\u001b[39m0\u001b[39m])\n",
      "File \u001b[0;32m/nix/store/wh2x3v6wrwijbl6g123a7awdyqz17hkh-python3-3.10.13-env/lib/python3.10/site-packages/keras/utils/traceback_utils.py:65\u001b[0m, in \u001b[0;36mfilter_traceback.<locals>.error_handler\u001b[0;34m(*args, **kwargs)\u001b[0m\n\u001b[1;32m     63\u001b[0m filtered_tb \u001b[39m=\u001b[39m \u001b[39mNone\u001b[39;00m\n\u001b[1;32m     64\u001b[0m \u001b[39mtry\u001b[39;00m:\n\u001b[0;32m---> 65\u001b[0m     \u001b[39mreturn\u001b[39;00m fn(\u001b[39m*\u001b[39;49margs, \u001b[39m*\u001b[39;49m\u001b[39m*\u001b[39;49mkwargs)\n\u001b[1;32m     66\u001b[0m \u001b[39mexcept\u001b[39;00m \u001b[39mException\u001b[39;00m \u001b[39mas\u001b[39;00m e:\n\u001b[1;32m     67\u001b[0m     filtered_tb \u001b[39m=\u001b[39m _process_traceback_frames(e\u001b[39m.\u001b[39m__traceback__)\n",
      "File \u001b[0;32m/nix/store/wh2x3v6wrwijbl6g123a7awdyqz17hkh-python3-3.10.13-env/lib/python3.10/site-packages/keras/engine/training.py:1650\u001b[0m, in \u001b[0;36mModel.fit\u001b[0;34m(self, x, y, batch_size, epochs, verbose, callbacks, validation_split, validation_data, shuffle, class_weight, sample_weight, initial_epoch, steps_per_epoch, validation_steps, validation_batch_size, validation_freq, max_queue_size, workers, use_multiprocessing)\u001b[0m\n\u001b[1;32m   1642\u001b[0m \u001b[39mwith\u001b[39;00m tf\u001b[39m.\u001b[39mprofiler\u001b[39m.\u001b[39mexperimental\u001b[39m.\u001b[39mTrace(\n\u001b[1;32m   1643\u001b[0m     \u001b[39m\"\u001b[39m\u001b[39mtrain\u001b[39m\u001b[39m\"\u001b[39m,\n\u001b[1;32m   1644\u001b[0m     epoch_num\u001b[39m=\u001b[39mepoch,\n\u001b[0;32m   (...)\u001b[0m\n\u001b[1;32m   1647\u001b[0m     _r\u001b[39m=\u001b[39m\u001b[39m1\u001b[39m,\n\u001b[1;32m   1648\u001b[0m ):\n\u001b[1;32m   1649\u001b[0m     callbacks\u001b[39m.\u001b[39mon_train_batch_begin(step)\n\u001b[0;32m-> 1650\u001b[0m     tmp_logs \u001b[39m=\u001b[39m \u001b[39mself\u001b[39;49m\u001b[39m.\u001b[39;49mtrain_function(iterator)\n\u001b[1;32m   1651\u001b[0m     \u001b[39mif\u001b[39;00m data_handler\u001b[39m.\u001b[39mshould_sync:\n\u001b[1;32m   1652\u001b[0m         context\u001b[39m.\u001b[39masync_wait()\n",
      "File \u001b[0;32m/nix/store/wh2x3v6wrwijbl6g123a7awdyqz17hkh-python3-3.10.13-env/lib/python3.10/site-packages/tensorflow/python/util/traceback_utils.py:150\u001b[0m, in \u001b[0;36mfilter_traceback.<locals>.error_handler\u001b[0;34m(*args, **kwargs)\u001b[0m\n\u001b[1;32m    148\u001b[0m filtered_tb \u001b[39m=\u001b[39m \u001b[39mNone\u001b[39;00m\n\u001b[1;32m    149\u001b[0m \u001b[39mtry\u001b[39;00m:\n\u001b[0;32m--> 150\u001b[0m   \u001b[39mreturn\u001b[39;00m fn(\u001b[39m*\u001b[39;49margs, \u001b[39m*\u001b[39;49m\u001b[39m*\u001b[39;49mkwargs)\n\u001b[1;32m    151\u001b[0m \u001b[39mexcept\u001b[39;00m \u001b[39mException\u001b[39;00m \u001b[39mas\u001b[39;00m e:\n\u001b[1;32m    152\u001b[0m   filtered_tb \u001b[39m=\u001b[39m _process_traceback_frames(e\u001b[39m.\u001b[39m__traceback__)\n",
      "File \u001b[0;32m/nix/store/wh2x3v6wrwijbl6g123a7awdyqz17hkh-python3-3.10.13-env/lib/python3.10/site-packages/tensorflow/python/eager/polymorphic_function/polymorphic_function.py:880\u001b[0m, in \u001b[0;36mFunction.__call__\u001b[0;34m(self, *args, **kwds)\u001b[0m\n\u001b[1;32m    877\u001b[0m compiler \u001b[39m=\u001b[39m \u001b[39m\"\u001b[39m\u001b[39mxla\u001b[39m\u001b[39m\"\u001b[39m \u001b[39mif\u001b[39;00m \u001b[39mself\u001b[39m\u001b[39m.\u001b[39m_jit_compile \u001b[39melse\u001b[39;00m \u001b[39m\"\u001b[39m\u001b[39mnonXla\u001b[39m\u001b[39m\"\u001b[39m\n\u001b[1;32m    879\u001b[0m \u001b[39mwith\u001b[39;00m OptionalXlaContext(\u001b[39mself\u001b[39m\u001b[39m.\u001b[39m_jit_compile):\n\u001b[0;32m--> 880\u001b[0m   result \u001b[39m=\u001b[39m \u001b[39mself\u001b[39;49m\u001b[39m.\u001b[39;49m_call(\u001b[39m*\u001b[39;49margs, \u001b[39m*\u001b[39;49m\u001b[39m*\u001b[39;49mkwds)\n\u001b[1;32m    882\u001b[0m new_tracing_count \u001b[39m=\u001b[39m \u001b[39mself\u001b[39m\u001b[39m.\u001b[39mexperimental_get_tracing_count()\n\u001b[1;32m    883\u001b[0m without_tracing \u001b[39m=\u001b[39m (tracing_count \u001b[39m==\u001b[39m new_tracing_count)\n",
      "File \u001b[0;32m/nix/store/wh2x3v6wrwijbl6g123a7awdyqz17hkh-python3-3.10.13-env/lib/python3.10/site-packages/tensorflow/python/eager/polymorphic_function/polymorphic_function.py:912\u001b[0m, in \u001b[0;36mFunction._call\u001b[0;34m(self, *args, **kwds)\u001b[0m\n\u001b[1;32m    909\u001b[0m   \u001b[39mself\u001b[39m\u001b[39m.\u001b[39m_lock\u001b[39m.\u001b[39mrelease()\n\u001b[1;32m    910\u001b[0m   \u001b[39m# In this case we have created variables on the first call, so we run the\u001b[39;00m\n\u001b[1;32m    911\u001b[0m   \u001b[39m# defunned version which is guaranteed to never create variables.\u001b[39;00m\n\u001b[0;32m--> 912\u001b[0m   \u001b[39mreturn\u001b[39;00m \u001b[39mself\u001b[39;49m\u001b[39m.\u001b[39;49m_no_variable_creation_fn(\u001b[39m*\u001b[39;49margs, \u001b[39m*\u001b[39;49m\u001b[39m*\u001b[39;49mkwds)  \u001b[39m# pylint: disable=not-callable\u001b[39;00m\n\u001b[1;32m    913\u001b[0m \u001b[39melif\u001b[39;00m \u001b[39mself\u001b[39m\u001b[39m.\u001b[39m_variable_creation_fn \u001b[39mis\u001b[39;00m \u001b[39mnot\u001b[39;00m \u001b[39mNone\u001b[39;00m:\n\u001b[1;32m    914\u001b[0m   \u001b[39m# Release the lock early so that multiple threads can perform the call\u001b[39;00m\n\u001b[1;32m    915\u001b[0m   \u001b[39m# in parallel.\u001b[39;00m\n\u001b[1;32m    916\u001b[0m   \u001b[39mself\u001b[39m\u001b[39m.\u001b[39m_lock\u001b[39m.\u001b[39mrelease()\n",
      "File \u001b[0;32m/nix/store/wh2x3v6wrwijbl6g123a7awdyqz17hkh-python3-3.10.13-env/lib/python3.10/site-packages/tensorflow/python/eager/polymorphic_function/tracing_compiler.py:134\u001b[0m, in \u001b[0;36mTracingCompiler.__call__\u001b[0;34m(self, *args, **kwargs)\u001b[0m\n\u001b[1;32m    131\u001b[0m \u001b[39mwith\u001b[39;00m \u001b[39mself\u001b[39m\u001b[39m.\u001b[39m_lock:\n\u001b[1;32m    132\u001b[0m   (concrete_function,\n\u001b[1;32m    133\u001b[0m    filtered_flat_args) \u001b[39m=\u001b[39m \u001b[39mself\u001b[39m\u001b[39m.\u001b[39m_maybe_define_function(args, kwargs)\n\u001b[0;32m--> 134\u001b[0m \u001b[39mreturn\u001b[39;00m concrete_function\u001b[39m.\u001b[39;49m_call_flat(\n\u001b[1;32m    135\u001b[0m     filtered_flat_args, captured_inputs\u001b[39m=\u001b[39;49mconcrete_function\u001b[39m.\u001b[39;49mcaptured_inputs)\n",
      "File \u001b[0;32m/nix/store/wh2x3v6wrwijbl6g123a7awdyqz17hkh-python3-3.10.13-env/lib/python3.10/site-packages/tensorflow/python/eager/polymorphic_function/monomorphic_function.py:1745\u001b[0m, in \u001b[0;36mConcreteFunction._call_flat\u001b[0;34m(self, args, captured_inputs, cancellation_manager)\u001b[0m\n\u001b[1;32m   1741\u001b[0m possible_gradient_type \u001b[39m=\u001b[39m gradients_util\u001b[39m.\u001b[39mPossibleTapeGradientTypes(args)\n\u001b[1;32m   1742\u001b[0m \u001b[39mif\u001b[39;00m (possible_gradient_type \u001b[39m==\u001b[39m gradients_util\u001b[39m.\u001b[39mPOSSIBLE_GRADIENT_TYPES_NONE\n\u001b[1;32m   1743\u001b[0m     \u001b[39mand\u001b[39;00m executing_eagerly):\n\u001b[1;32m   1744\u001b[0m   \u001b[39m# No tape is watching; skip to running the function.\u001b[39;00m\n\u001b[0;32m-> 1745\u001b[0m   \u001b[39mreturn\u001b[39;00m \u001b[39mself\u001b[39m\u001b[39m.\u001b[39m_build_call_outputs(\u001b[39mself\u001b[39;49m\u001b[39m.\u001b[39;49m_inference_function\u001b[39m.\u001b[39;49mcall(\n\u001b[1;32m   1746\u001b[0m       ctx, args, cancellation_manager\u001b[39m=\u001b[39;49mcancellation_manager))\n\u001b[1;32m   1747\u001b[0m forward_backward \u001b[39m=\u001b[39m \u001b[39mself\u001b[39m\u001b[39m.\u001b[39m_select_forward_and_backward_functions(\n\u001b[1;32m   1748\u001b[0m     args,\n\u001b[1;32m   1749\u001b[0m     possible_gradient_type,\n\u001b[1;32m   1750\u001b[0m     executing_eagerly)\n\u001b[1;32m   1751\u001b[0m forward_function, args_with_tangents \u001b[39m=\u001b[39m forward_backward\u001b[39m.\u001b[39mforward()\n",
      "File \u001b[0;32m/nix/store/wh2x3v6wrwijbl6g123a7awdyqz17hkh-python3-3.10.13-env/lib/python3.10/site-packages/tensorflow/python/eager/polymorphic_function/monomorphic_function.py:378\u001b[0m, in \u001b[0;36m_EagerDefinedFunction.call\u001b[0;34m(self, ctx, args, cancellation_manager)\u001b[0m\n\u001b[1;32m    376\u001b[0m \u001b[39mwith\u001b[39;00m _InterpolateFunctionError(\u001b[39mself\u001b[39m):\n\u001b[1;32m    377\u001b[0m   \u001b[39mif\u001b[39;00m cancellation_manager \u001b[39mis\u001b[39;00m \u001b[39mNone\u001b[39;00m:\n\u001b[0;32m--> 378\u001b[0m     outputs \u001b[39m=\u001b[39m execute\u001b[39m.\u001b[39;49mexecute(\n\u001b[1;32m    379\u001b[0m         \u001b[39mstr\u001b[39;49m(\u001b[39mself\u001b[39;49m\u001b[39m.\u001b[39;49msignature\u001b[39m.\u001b[39;49mname),\n\u001b[1;32m    380\u001b[0m         num_outputs\u001b[39m=\u001b[39;49m\u001b[39mself\u001b[39;49m\u001b[39m.\u001b[39;49m_num_outputs,\n\u001b[1;32m    381\u001b[0m         inputs\u001b[39m=\u001b[39;49margs,\n\u001b[1;32m    382\u001b[0m         attrs\u001b[39m=\u001b[39;49mattrs,\n\u001b[1;32m    383\u001b[0m         ctx\u001b[39m=\u001b[39;49mctx)\n\u001b[1;32m    384\u001b[0m   \u001b[39melse\u001b[39;00m:\n\u001b[1;32m    385\u001b[0m     outputs \u001b[39m=\u001b[39m execute\u001b[39m.\u001b[39mexecute_with_cancellation(\n\u001b[1;32m    386\u001b[0m         \u001b[39mstr\u001b[39m(\u001b[39mself\u001b[39m\u001b[39m.\u001b[39msignature\u001b[39m.\u001b[39mname),\n\u001b[1;32m    387\u001b[0m         num_outputs\u001b[39m=\u001b[39m\u001b[39mself\u001b[39m\u001b[39m.\u001b[39m_num_outputs,\n\u001b[0;32m   (...)\u001b[0m\n\u001b[1;32m    390\u001b[0m         ctx\u001b[39m=\u001b[39mctx,\n\u001b[1;32m    391\u001b[0m         cancellation_manager\u001b[39m=\u001b[39mcancellation_manager)\n",
      "File \u001b[0;32m/nix/store/wh2x3v6wrwijbl6g123a7awdyqz17hkh-python3-3.10.13-env/lib/python3.10/site-packages/tensorflow/python/eager/execute.py:52\u001b[0m, in \u001b[0;36mquick_execute\u001b[0;34m(op_name, num_outputs, inputs, attrs, ctx, name)\u001b[0m\n\u001b[1;32m     50\u001b[0m \u001b[39mtry\u001b[39;00m:\n\u001b[1;32m     51\u001b[0m   ctx\u001b[39m.\u001b[39mensure_initialized()\n\u001b[0;32m---> 52\u001b[0m   tensors \u001b[39m=\u001b[39m pywrap_tfe\u001b[39m.\u001b[39;49mTFE_Py_Execute(ctx\u001b[39m.\u001b[39;49m_handle, device_name, op_name,\n\u001b[1;32m     53\u001b[0m                                       inputs, attrs, num_outputs)\n\u001b[1;32m     54\u001b[0m \u001b[39mexcept\u001b[39;00m core\u001b[39m.\u001b[39m_NotOkStatusException \u001b[39mas\u001b[39;00m e:\n\u001b[1;32m     55\u001b[0m   \u001b[39mif\u001b[39;00m name \u001b[39mis\u001b[39;00m \u001b[39mnot\u001b[39;00m \u001b[39mNone\u001b[39;00m:\n",
      "\u001b[0;31mKeyboardInterrupt\u001b[0m: "
     ]
    }
   ],
   "source": [
    "from tensorflow.keras.datasets import fashion_mnist\n",
    "(x_train, y_train), (x_test, y_test) = fashion_mnist.load_data()\n",
    "\n",
    "print(\"shape of x_train:\", x_train.shape)\n",
    "print(\"shape of y_train:\", y_train.shape)\n",
    "\n",
    "nbClasses = np.unique(y_train).shape[0]\n",
    "inputDim = 784\n",
    "\n",
    "model = Sequential()\n",
    "model.add(Dense(int(inputDim  / 2) + nbClasses, input_dim=inputDim, activation='relu'))\n",
    "model.add(Dense(nbClasses, activation='softmax'))\n",
    "\n",
    "model.compile(optimizer='rmsprop', loss='categorical_crossentropy', metrics=['accuracy'])\n",
    "\n",
    "x_train = x_train.reshape(60000, 784)\n",
    "x_test = x_test.reshape(10000, 784)\n",
    "x_train = x_train.astype('float32')\n",
    "x_test = x_test.astype('float32')\n",
    "\n",
    "x_train /= 255\n",
    "x_test /= 255\n",
    "\n",
    "y_train = tensorflow.keras.utils.to_categorical(y_train, nbClasses)\n",
    "y_test = tensorflow.keras.utils.to_categorical(y_test, nbClasses)\n",
    "\n",
    "history = model.fit(x_train, y_train, epochs=150, batch_size=128, validation_split=0.2)\n",
    "DataFrame(history.history).plot()\n",
    "\n",
    "print(\"Test score:\", model.evaluate(x_test, y_test)[0])"
   ]
  }
 ],
 "metadata": {
  "celltoolbar": "Raw Cell Format",
  "hide_input": false,
  "kernelspec": {
   "display_name": "Python 3",
   "language": "python",
   "name": "python3"
  },
  "language_info": {
   "codemirror_mode": {
    "name": "ipython",
    "version": 3
   },
   "file_extension": ".py",
   "mimetype": "text/x-python",
   "name": "python",
   "nbconvert_exporter": "python",
   "pygments_lexer": "ipython3",
   "version": "3.10.13"
  },
  "latex_envs": {
   "LaTeX_envs_menu_present": true,
   "autoclose": false,
   "autocomplete": true,
   "bibliofile": "biblio.bib",
   "cite_by": "apalike",
   "current_citInitial": 1,
   "eqLabelWithNumbers": true,
   "eqNumInitial": 1,
   "hotkeys": {
    "equation": "Ctrl-E",
    "itemize": "Ctrl-I"
   },
   "labels_anchors": false,
   "latex_user_defs": false,
   "report_style_numbering": false,
   "user_envs_cfg": false
  },
  "varInspector": {
   "cols": {
    "lenName": 16,
    "lenType": 16,
    "lenVar": 40
   },
   "kernels_config": {
    "python": {
     "delete_cmd_postfix": "",
     "delete_cmd_prefix": "del ",
     "library": "var_list.py",
     "varRefreshCmd": "print(var_dic_list())"
    },
    "r": {
     "delete_cmd_postfix": ") ",
     "delete_cmd_prefix": "rm(",
     "library": "var_list.r",
     "varRefreshCmd": "cat(var_dic_list()) "
    }
   },
   "types_to_exclude": [
    "module",
    "function",
    "builtin_function_or_method",
    "instance",
    "_Feature"
   ],
   "window_display": false
  }
 },
 "nbformat": 4,
 "nbformat_minor": 2
}
