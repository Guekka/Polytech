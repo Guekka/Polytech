{
 "cells": [
  {
   "cell_type": "markdown",
   "metadata": {},
   "source": [
    "# Lab 1 Part II: UCI-HAR 1D CNN"
   ]
  },
  {
   "cell_type": "markdown",
   "metadata": {},
   "source": [
    "## Imports"
   ]
  },
  {
   "cell_type": "code",
   "execution_count": 2,
   "metadata": {},
   "outputs": [
    {
     "name": "stderr",
     "output_type": "stream",
     "text": [
      "2024-03-08 14:38:31.108777: I tensorflow/tsl/cuda/cudart_stub.cc:28] Could not find cuda drivers on your machine, GPU will not be used.\n",
      "2024-03-08 14:38:31.176235: E tensorflow/compiler/xla/stream_executor/cuda/cuda_dnn.cc:9342] Unable to register cuDNN factory: Attempting to register factory for plugin cuDNN when one has already been registered\n",
      "2024-03-08 14:38:31.176325: E tensorflow/compiler/xla/stream_executor/cuda/cuda_fft.cc:609] Unable to register cuFFT factory: Attempting to register factory for plugin cuFFT when one has already been registered\n",
      "2024-03-08 14:38:31.176386: E tensorflow/compiler/xla/stream_executor/cuda/cuda_blas.cc:1518] Unable to register cuBLAS factory: Attempting to register factory for plugin cuBLAS when one has already been registered\n",
      "2024-03-08 14:38:31.188592: I tensorflow/tsl/cuda/cudart_stub.cc:28] Could not find cuda drivers on your machine, GPU will not be used.\n",
      "2024-03-08 14:38:31.189661: I tensorflow/core/platform/cpu_feature_guard.cc:182] This TensorFlow binary is optimized to use available CPU instructions in performance-critical operations.\n",
      "To enable the following instructions: AVX2 FMA, in other operations, rebuild TensorFlow with the appropriate compiler flags.\n",
      "2024-03-08 14:38:32.361878: W tensorflow/compiler/tf2tensorrt/utils/py_utils.cc:38] TF-TRT Warning: Could not find TensorRT\n"
     ]
    }
   ],
   "source": [
    "from pathlib import Path\n",
    "import numpy as np\n",
    "import tensorflow as tf\n",
    "from keras.models import Sequential\n",
    "from keras.layers import Input, Conv1D, MaxPool1D, Flatten, Dense, Activation\n",
    "from keras.utils import get_file\n",
    "from keras.utils import to_categorical"
   ]
  },
  {
   "cell_type": "markdown",
   "metadata": {},
   "source": [
    "## Load and format UCI-HAR dataset (raw data)"
   ]
  },
  {
   "cell_type": "code",
   "execution_count": 3,
   "metadata": {},
   "outputs": [
    {
     "name": "stdout",
     "output_type": "stream",
     "text": [
      "Downloading data from https://archive.ics.uci.edu/ml/machine-learning-databases/00240/UCI%20HAR%20Dataset.zip\n",
      "   8192/Unknown - 0s 0us/step"
     ]
    }
   ],
   "source": [
    "dataset_path = get_file(None, \"https://archive.ics.uci.edu/ml/machine-learning-databases/00240/UCI%20HAR%20Dataset.zip\", extract=True, file_hash=\"53e099237392e0b9602f8c38f578bd8f\") # Download, cache and extract UCI-HAR\n",
    "dataset_dir = Path(dataset_path).parent\n",
    "\n",
    "def load_set(dataset_dir, part: str): # Load separate sensor signals and combine them into a single array, load labels separately\n",
    "    data = np.hstack([np.loadtxt(dataset_dir/'UCI HAR Dataset'/part/'Inertial Signals'/f'{sensor}_{axis}_{part}.txt')\n",
    "                for sensor in ('body_acc', 'body_gyro', 'total_acc')\n",
    "                    for axis in ('x', 'y', 'z')]).reshape((-1, 128, 9))\n",
    "    labels = to_categorical(np.loadtxt(dataset_dir/'UCI HAR Dataset'/part/f'y_{part}.txt') - 1)\n",
    "    return data, labels\n",
    "\n",
    "x_train, y_train = load_set(dataset_dir, 'train')\n",
    "x_test, y_test = load_set(dataset_dir, 'test')"
   ]
  },
  {
   "cell_type": "markdown",
   "metadata": {},
   "source": [
    "## Export complete test dataset (2947 vectors)"
   ]
  },
  {
   "cell_type": "code",
   "execution_count": 4,
   "metadata": {},
   "outputs": [],
   "source": [
    "np.savetxt('x_test_uci-har.csv', x_test.reshape((x_test.shape[0], -1)), delimiter=',', fmt='%s')\n",
    "np.savetxt('y_test_uci-har.csv', y_test, delimiter=',', fmt='%s')"
   ]
  },
  {
   "cell_type": "markdown",
   "metadata": {},
   "source": [
    "## Export small test dataset (250 vectors)"
   ]
  },
  {
   "cell_type": "code",
   "execution_count": 5,
   "metadata": {},
   "outputs": [],
   "source": [
    "x_test_250 = x_test[0:250]\n",
    "y_test_250 = y_test[0:250]\n",
    "np.savetxt('x_test_uci-har_250.csv', x_test_250.reshape((x_test_250.shape[0], -1)), delimiter=',', fmt='%s')\n",
    "np.savetxt('y_test_uci-har_250.csv', y_test_250, delimiter=',', fmt='%s')"
   ]
  },
  {
   "cell_type": "markdown",
   "metadata": {},
   "source": [
    "## Build model"
   ]
  },
  {
   "cell_type": "code",
   "execution_count": 6,
   "metadata": {},
   "outputs": [
    {
     "name": "stdout",
     "output_type": "stream",
     "text": [
      "Model: \"sequential\"\n",
      "_________________________________________________________________\n",
      " Layer (type)                Output Shape              Param #   \n",
      "=================================================================\n",
      " conv1d (Conv1D)             (None, 126, 2)            56        \n",
      "                                                                 \n",
      " flatten (Flatten)           (None, 252)               0         \n",
      "                                                                 \n",
      " dense (Dense)               (None, 6)                 1518      \n",
      "                                                                 \n",
      " activation (Activation)     (None, 6)                 0         \n",
      "                                                                 \n",
      "=================================================================\n",
      "Total params: 1574 (6.15 KB)\n",
      "Trainable params: 1574 (6.15 KB)\n",
      "Non-trainable params: 0 (0.00 Byte)\n",
      "_________________________________________________________________\n"
     ]
    }
   ],
   "source": [
    "model = Sequential()\n",
    "model.add(Input(shape=(128, 9)))\n",
    "model.add(Conv1D(filters=2, kernel_size=3, activation='relu'))\n",
    "model.add(Flatten())\n",
    "model.add(Dense(units=6))\n",
    "model.add(Activation('softmax')) # SoftMax activation needs to be separate from Dense to remove it later on\n",
    "# EXPLORE Learning Rate\n",
    "opt = tf.keras.optimizers.Adam(learning_rate=10e-3)\n",
    "model.summary()\n",
    "model.compile(optimizer=opt, loss='categorical_crossentropy', metrics=['categorical_accuracy'])"
   ]
  },
  {
   "cell_type": "markdown",
   "metadata": {},
   "source": [
    "## Train model"
   ]
  },
  {
   "cell_type": "code",
   "execution_count": 7,
   "metadata": {},
   "outputs": [
    {
     "name": "stdout",
     "output_type": "stream",
     "text": [
      "Epoch 1/3\n"
     ]
    },
    {
     "name": "stderr",
     "output_type": "stream",
     "text": [
      "2024-03-08 14:38:50.685223: W tensorflow/tsl/framework/cpu_allocator_impl.cc:83] Allocation of 33878016 exceeds 10% of free system memory.\n"
     ]
    },
    {
     "name": "stdout",
     "output_type": "stream",
     "text": [
      " 48/230 [=====>........................] - ETA: 0s - loss: 0.8744 - categorical_accuracy: 0.6191  "
     ]
    },
    {
     "name": "stderr",
     "output_type": "stream",
     "text": [
      "2024-03-08 14:38:51.406449: W tensorflow/tsl/framework/cpu_allocator_impl.cc:83] Allocation of 28862568 exceeds 10% of free system memory.\n",
      "2024-03-08 14:38:51.411126: W tensorflow/tsl/framework/cpu_allocator_impl.cc:83] Allocation of 28862568 exceeds 10% of free system memory.\n",
      "2024-03-08 14:38:51.414509: W tensorflow/tsl/framework/cpu_allocator_impl.cc:83] Allocation of 28862568 exceeds 10% of free system memory.\n",
      "2024-03-08 14:38:51.417835: W tensorflow/tsl/framework/cpu_allocator_impl.cc:83] Allocation of 28862568 exceeds 10% of free system memory.\n"
     ]
    },
    {
     "name": "stdout",
     "output_type": "stream",
     "text": [
      "230/230 [==============================] - 2s 5ms/step - loss: 0.5447 - categorical_accuracy: 0.7714 - val_loss: 0.5154 - val_categorical_accuracy: 0.7896\n",
      "Epoch 2/3\n",
      "230/230 [==============================] - 1s 4ms/step - loss: 0.3259 - categorical_accuracy: 0.8719 - val_loss: 0.4006 - val_categorical_accuracy: 0.8368\n",
      "Epoch 3/3\n",
      "230/230 [==============================] - 1s 4ms/step - loss: 0.2900 - categorical_accuracy: 0.8848 - val_loss: 0.3381 - val_categorical_accuracy: 0.8575\n"
     ]
    },
    {
     "data": {
      "text/plain": [
       "<keras.src.callbacks.History at 0x7efc47b29b50>"
      ]
     },
     "execution_count": 7,
     "metadata": {},
     "output_type": "execute_result"
    }
   ],
   "source": [
    "model.fit(x_train, y_train, epochs=3, validation_data=(x_test, y_test))"
   ]
  },
  {
   "cell_type": "markdown",
   "metadata": {},
   "source": [
    "## Evaluate model on complete test dataset"
   ]
  },
  {
   "cell_type": "code",
   "execution_count": 8,
   "metadata": {},
   "outputs": [
    {
     "name": "stdout",
     "output_type": "stream",
     "text": [
      "93/93 - 0s - loss: 0.3381 - categorical_accuracy: 0.8575 - 182ms/epoch - 2ms/step\n",
      "93/93 [==============================] - 0s 2ms/step\n",
      "tf.Tensor(\n",
      "[[484   1  11   0   0   0]\n",
      " [ 90 341  40   0   0   0]\n",
      " [ 42  70 308   0   0   0]\n",
      " [  0   2   0 386 103   0]\n",
      " [  1   0   0  60 471   0]\n",
      " [  0   0   0   0   0 537]], shape=(6, 6), dtype=int32)\n"
     ]
    }
   ],
   "source": [
    "model.evaluate(x_test, y_test, verbose=2)\n",
    "pred_test = model.predict(x_test)\n",
    "print(tf.math.confusion_matrix(y_test.argmax(axis=1), pred_test.argmax(axis=1)))"
   ]
  },
  {
   "cell_type": "markdown",
   "metadata": {},
   "source": [
    "## Evaluate model on small test dataset"
   ]
  },
  {
   "cell_type": "code",
   "execution_count": 9,
   "metadata": {},
   "outputs": [
    {
     "name": "stdout",
     "output_type": "stream",
     "text": [
      "8/8 - 0s - loss: 0.2922 - categorical_accuracy: 0.8400 - 35ms/epoch - 4ms/step\n",
      "8/8 [==============================] - 0s 2ms/step\n",
      "tf.Tensor(\n",
      "[[53  0  0  0  0  0]\n",
      " [ 0 25  0  0  0  0]\n",
      " [ 3 15  6  0  0  0]\n",
      " [ 0  0  0 24 22  0]\n",
      " [ 0  0  0  0 54  0]\n",
      " [ 0  0  0  0  0 48]], shape=(6, 6), dtype=int32)\n"
     ]
    }
   ],
   "source": [
    "model.evaluate(x_test_250, y_test_250, verbose=2)\n",
    "pred_test_250 = model.predict(x_test_250)\n",
    "print(tf.math.confusion_matrix(y_test_250.argmax(axis=1), pred_test_250.argmax(axis=1)))"
   ]
  },
  {
   "cell_type": "markdown",
   "metadata": {},
   "source": [
    "## Save trained model"
   ]
  },
  {
   "cell_type": "code",
   "execution_count": 10,
   "metadata": {},
   "outputs": [
    {
     "name": "stderr",
     "output_type": "stream",
     "text": [
      "/opt/conda/lib/python3.11/site-packages/keras/src/engine/training.py:3079: UserWarning: You are saving your model as an HDF5 file via `model.save()`. This file format is considered legacy. We recommend using instead the native Keras format, e.g. `model.save('my_model.keras')`.\n",
      "  saving_api.save_model(\n"
     ]
    }
   ],
   "source": [
    "model.save('lab1_part2_uci-har.h5')"
   ]
  }
 ],
 "metadata": {
  "kernelspec": {
   "display_name": "Python 3 (ipykernel)",
   "language": "python",
   "name": "python3"
  },
  "language_info": {
   "codemirror_mode": {
    "name": "ipython",
    "version": 3
   },
   "file_extension": ".py",
   "mimetype": "text/x-python",
   "name": "python",
   "nbconvert_exporter": "python",
   "pygments_lexer": "ipython3",
   "version": "3.11.6"
  }
 },
 "nbformat": 4,
 "nbformat_minor": 4
}
