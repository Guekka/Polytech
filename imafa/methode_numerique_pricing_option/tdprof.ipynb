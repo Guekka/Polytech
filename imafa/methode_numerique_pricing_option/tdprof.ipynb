{
 "cells": [
  {
   "cell_type": "code",
   "id": "f5f49413",
   "metadata": {
    "ExecuteTime": {
     "end_time": "2024-11-19T13:49:04.330663Z",
     "start_time": "2024-11-19T13:49:03.452494Z"
    }
   },
   "source": [
    "# résolution de l'EDP de Black-Scholes par différences finies\n",
    "\n",
    "import time\n",
    "\n",
    "import matplotlib.pyplot as plt\n",
    "# librairies\n",
    "import numpy as np\n",
    "import scipy\n",
    "from scipy.stats import norm"
   ],
   "outputs": [],
   "execution_count": 1
  },
  {
   "cell_type": "code",
   "id": "2a01c20e",
   "metadata": {
    "ExecuteTime": {
     "end_time": "2024-11-19T13:49:05.259583Z",
     "start_time": "2024-11-19T13:49:05.255710Z"
    }
   },
   "source": [
    "# paramètres financiers\n",
    "S0 = 247.12\n",
    "r = 0.035\n",
    "sigma = 0.2\n",
    "T = 2.\n",
    "K = 269.99"
   ],
   "outputs": [],
   "execution_count": 2
  },
  {
   "cell_type": "code",
   "id": "892f1022",
   "metadata": {
    "ExecuteTime": {
     "end_time": "2024-11-19T13:59:42.414083Z",
     "start_time": "2024-11-19T13:59:42.405658Z"
    }
   },
   "source": [
    "# paramètres numériques\n",
    "N = 1000000  # nb de points en prix\n",
    "M = 1000  # nb de points en temps\n",
    "Smax = 1000  # prix maximum pour la résolution\n",
    "dt = T / M\n",
    "ds = Smax / N\n",
    "print(\"Les pas de temps et prix sont:\", dt, ds)"
   ],
   "outputs": [
    {
     "name": "stdout",
     "output_type": "stream",
     "text": [
      "Les pas de temps et prix sont: 0.002 0.001\n"
     ]
    }
   ],
   "execution_count": 37
  },
  {
   "cell_type": "code",
   "id": "d8b077aa",
   "metadata": {
    "ExecuteTime": {
     "end_time": "2024-11-19T13:59:44.616062Z",
     "start_time": "2024-11-19T13:59:43.081231Z"
    }
   },
   "source": [
    "# initialisation de la matrice C (valeurs de l'option)\n",
    "C = np.zeros((M + 1, N + 1))\n",
    "# tableau des prix S\n",
    "S = ds * np.arange(N + 1)\n",
    "# tableau des temps t\n",
    "t = dt * np.arange(M + 1)\n",
    "# prix finaux t=T\n",
    "C[M, :] = np.maximum(S - K, 0)\n",
    "# conditions aux bords en prix\n",
    "C[:, 0] = 0.\n",
    "C[:, N] = Smax - K * np.exp(-r * (T - t))"
   ],
   "outputs": [],
   "execution_count": 38
  },
  {
   "cell_type": "code",
   "id": "e555d534",
   "metadata": {
    "ExecuteTime": {
     "end_time": "2024-11-19T13:59:45.829258Z",
     "start_time": "2024-11-19T13:59:45.616855Z"
    }
   },
   "source": [
    "# matrice du système linéaire (qui ne dépend pas du temps)\n",
    "#A = np.zeros((N-1,N-1))\n",
    "A = scipy.sparse.diags_array((-1 / dt - (sigma ** 2 / ds ** 2) * S[1:N] ** 2 - r * S[1:N] / ds - r,\n",
    "                              0.5 * (sigma / ds) ** 2 * S[1:N - 1] ** 2 + r / ds * S[1:N - 1],\n",
    "                              0.5 * (sigma / ds) ** 2 * S[2:N] ** 2),\n",
    "                             offsets=[0, 1, -1])\n"
   ],
   "outputs": [],
   "execution_count": 39
  },
  {
   "cell_type": "code",
   "id": "a5b97300",
   "metadata": {
    "ExecuteTime": {
     "end_time": "2024-11-19T14:00:15.734385Z",
     "start_time": "2024-11-19T13:59:46.805338Z"
    }
   },
   "source": [
    "# on lance le chronomètre\n",
    "\n",
    "LU = scipy.sparse.linalg.splu(A)\n",
    "\n",
    "start = time.time()\n",
    "# boucle en temps\n",
    "for i in range(M - 1, -1, -1):\n",
    "    # vecteur du second membre\n",
    "    b = -1 / dt * C[i + 1, 1:N]\n",
    "    # ajout des conditions aux bords\n",
    "    b[0] += -0.5 * (sigma / ds) ** 2 * S[1] ** 2 * C[i, 0]\n",
    "    b[N - 2] += (-0.5 * (sigma / ds) ** 2 * S[N - 1] ** 2 - r / ds * S[N - 1]) * C[i, N]\n",
    "    # résolution du système Ax=b\n",
    "    C[i, 1:N] = LU.solve(b)\n",
    "end = time.time()\n",
    "print(end - start)"
   ],
   "outputs": [
    {
     "name": "stderr",
     "output_type": "stream",
     "text": [
      "/tmp/ipykernel_74708/2187326022.py:3: SparseEfficiencyWarning: splu converted its input to CSC format\n",
      "  LU = scipy.sparse.linalg.splu(A)\n"
     ]
    },
    {
     "name": "stdout",
     "output_type": "stream",
     "text": [
      "27.768905639648438\n"
     ]
    }
   ],
   "execution_count": 40
  },
  {
   "cell_type": "code",
   "id": "959d63ab",
   "metadata": {
    "ExecuteTime": {
     "end_time": "2024-11-19T14:00:18.114789Z",
     "start_time": "2024-11-19T14:00:18.093660Z"
    }
   },
   "source": [
    "# valeur de l'option à l'instant 0 (à la signature) pour différents prix d'actif\n",
    "C[0, :]"
   ],
   "outputs": [
    {
     "data": {
      "text/plain": [
       "array([0.00000000e+000, 1.58092900e-232, 4.10466989e-229, ...,\n",
       "       7.48260992e+002, 7.48261993e+002, 7.48262993e+002])"
      ]
     },
     "execution_count": 41,
     "metadata": {},
     "output_type": "execute_result"
    }
   ],
   "execution_count": 41
  },
  {
   "cell_type": "code",
   "id": "d8a79a61",
   "metadata": {
    "ExecuteTime": {
     "end_time": "2024-11-19T14:00:19.054788Z",
     "start_time": "2024-11-19T14:00:18.806564Z"
    }
   },
   "source": [
    "# valeur exacte de la solution\n",
    "C0exact = S * norm.cdf((np.log(S / K) + (r + 0.5 * sigma ** 2) * T) / (sigma * np.sqrt(T))) \\\n",
    "          - K * np.exp(-r * T) * norm.cdf((np.log(S / K) + (r - 0.5 * sigma ** 2) * T) / (sigma * np.sqrt(T)))"
   ],
   "outputs": [
    {
     "name": "stderr",
     "output_type": "stream",
     "text": [
      "/tmp/ipykernel_74708/3359761058.py:2: RuntimeWarning: divide by zero encountered in log\n",
      "  C0exact = S * norm.cdf((np.log(S / K) + (r + 0.5 * sigma ** 2) * T) / (sigma * np.sqrt(T))) \\\n",
      "/tmp/ipykernel_74708/3359761058.py:3: RuntimeWarning: divide by zero encountered in log\n",
      "  - K * np.exp(-r * T) * norm.cdf((np.log(S / K) + (r - 0.5 * sigma ** 2) * T) / (sigma * np.sqrt(T)))\n"
     ]
    }
   ],
   "execution_count": 42
  },
  {
   "cell_type": "code",
   "id": "a642f5a1",
   "metadata": {
    "ExecuteTime": {
     "end_time": "2024-11-19T14:00:26.692837Z",
     "start_time": "2024-11-19T14:00:26.063564Z"
    }
   },
   "source": "plt.plot(S, C[0, :])",
   "outputs": [
    {
     "data": {
      "text/plain": [
       "[<matplotlib.lines.Line2D at 0x7f4e0d5b8950>]"
      ]
     },
     "execution_count": 43,
     "metadata": {},
     "output_type": "execute_result"
    },
    {
     "data": {
      "text/plain": [
       "<Figure size 640x480 with 1 Axes>"
      ],
      "image/png": "[encoded data removed]"
     },
     "metadata": {},
     "output_type": "display_data"
    }
   ],
   "execution_count": 43
  },
  {
   "cell_type": "code",
   "id": "a8dc2c05",
   "metadata": {
    "ExecuteTime": {
     "end_time": "2024-11-19T13:01:28.217489Z",
     "start_time": "2024-11-19T13:01:28.211860Z"
    }
   },
   "source": "max(abs(C[0, :] - C0exact))",
   "outputs": [
    {
     "data": {
      "text/plain": [
       "737.7899766749923"
      ]
     },
     "execution_count": 11,
     "metadata": {},
     "output_type": "execute_result"
    }
   ],
   "execution_count": 11
  },
  {
   "cell_type": "code",
   "id": "56563b09",
   "metadata": {
    "ExecuteTime": {
     "end_time": "2024-11-19T13:01:28.559278Z",
     "start_time": "2024-11-19T13:01:28.554958Z"
    }
   },
   "source": [
    "C0exact"
   ],
   "outputs": [
    {
     "data": {
      "text/plain": [
       "array([0.00000000e+00, 5.06552644e-86, 2.94434610e-66, ...,\n",
       "       7.46263008e+02, 7.47263007e+02, 7.48263007e+02])"
      ]
     },
     "execution_count": 12,
     "metadata": {},
     "output_type": "execute_result"
    }
   ],
   "execution_count": 12
  },
  {
   "cell_type": "code",
   "id": "ad72ad70",
   "metadata": {
    "ExecuteTime": {
     "end_time": "2024-11-19T13:01:28.649036Z",
     "start_time": "2024-11-19T13:01:28.622341Z"
    }
   },
   "source": [
    "# changement de schéma => explicite en temps\n",
    "\n",
    "# initialisation de la matrice C2 (valeurs de l'option)\n",
    "C2 = np.zeros((M + 1, N + 1))\n",
    "# tableau des prix S\n",
    "S = ds * np.arange(N + 1)\n",
    "# tableau des temps t\n",
    "t = dt * np.arange(M + 1)\n",
    "# prix finaux t=T\n",
    "C2[M, :] = np.maximum(S - K, 0)\n",
    "# conditions aux bords en prix\n",
    "C2[:, 0] = 0.\n",
    "C2[:, N] = Smax - K * np.exp(-r * (T - t))"
   ],
   "outputs": [],
   "execution_count": 13
  },
  {
   "cell_type": "code",
   "id": "ec0557b0",
   "metadata": {
    "ExecuteTime": {
     "end_time": "2024-11-19T13:01:44.521182Z",
     "start_time": "2024-11-19T13:01:28.708349Z"
    }
   },
   "source": [
    "# on lance le chronomètre\n",
    "start = time.time()\n",
    "# boucle en temps \n",
    "for i in range(M - 1, -1, -1):\n",
    "    # boucle en prix\n",
    "    for j in range(1, N):\n",
    "        C2[i, j] = C2[i + 1, j] + dt * (\n",
    "                0.5 * sigma ** 2 * S[j] ** 2 * (C2[i + 1, j + 1] - 2 * C2[i + 1, j] + C2[i + 1, j - 1]) / ds ** 2\n",
    "                + r * S[j] * (C2[i + 1, j + 1] - C2[i + 1, j]) / ds - r * C2[i + 1, j])\n",
    "end = time.time()\n",
    "print(end - start)"
   ],
   "outputs": [
    {
     "name": "stderr",
     "output_type": "stream",
     "text": [
      "/tmp/ipykernel_36643/1700130525.py:8: RuntimeWarning: overflow encountered in scalar multiply\n",
      "  0.5 * sigma ** 2 * S[j] ** 2 * (C2[i + 1, j + 1] - 2 * C2[i + 1, j] + C2[i + 1, j - 1]) / ds ** 2\n",
      "/tmp/ipykernel_36643/1700130525.py:7: RuntimeWarning: invalid value encountered in scalar add\n",
      "  C2[i, j] = C2[i + 1, j] + dt * (\n"
     ]
    },
    {
     "ename": "KeyboardInterrupt",
     "evalue": "",
     "output_type": "error",
     "traceback": [
      "\u001B[0;31m---------------------------------------------------------------------------\u001B[0m",
      "\u001B[0;31mKeyboardInterrupt\u001B[0m                         Traceback (most recent call last)",
      "Cell \u001B[0;32mIn[14], line 7\u001B[0m\n\u001B[1;32m      4\u001B[0m \u001B[38;5;28;01mfor\u001B[39;00m i \u001B[38;5;129;01min\u001B[39;00m \u001B[38;5;28mrange\u001B[39m(M \u001B[38;5;241m-\u001B[39m \u001B[38;5;241m1\u001B[39m, \u001B[38;5;241m-\u001B[39m\u001B[38;5;241m1\u001B[39m, \u001B[38;5;241m-\u001B[39m\u001B[38;5;241m1\u001B[39m):\n\u001B[1;32m      5\u001B[0m     \u001B[38;5;66;03m# boucle en prix\u001B[39;00m\n\u001B[1;32m      6\u001B[0m     \u001B[38;5;28;01mfor\u001B[39;00m j \u001B[38;5;129;01min\u001B[39;00m \u001B[38;5;28mrange\u001B[39m(\u001B[38;5;241m1\u001B[39m, N):\n\u001B[0;32m----> 7\u001B[0m         C2[i, j] \u001B[38;5;241m=\u001B[39m C2[i \u001B[38;5;241m+\u001B[39m \u001B[38;5;241m1\u001B[39m, j] \u001B[38;5;241m+\u001B[39m dt \u001B[38;5;241m*\u001B[39m (\n\u001B[1;32m      8\u001B[0m                 \u001B[38;5;241m0.5\u001B[39m \u001B[38;5;241m*\u001B[39m sigma \u001B[38;5;241m*\u001B[39m\u001B[38;5;241m*\u001B[39m \u001B[38;5;241m2\u001B[39m \u001B[38;5;241m*\u001B[39m S[j] \u001B[38;5;241m*\u001B[39m\u001B[38;5;241m*\u001B[39m \u001B[38;5;241m2\u001B[39m \u001B[38;5;241m*\u001B[39m (C2[i \u001B[38;5;241m+\u001B[39m \u001B[38;5;241m1\u001B[39m, j \u001B[38;5;241m+\u001B[39m \u001B[38;5;241m1\u001B[39m] \u001B[38;5;241m-\u001B[39m \u001B[38;5;241m2\u001B[39m \u001B[38;5;241m*\u001B[39m C2[i \u001B[38;5;241m+\u001B[39m \u001B[38;5;241m1\u001B[39m, j] \u001B[38;5;241m+\u001B[39m C2[i \u001B[38;5;241m+\u001B[39m \u001B[38;5;241m1\u001B[39m, j \u001B[38;5;241m-\u001B[39m \u001B[38;5;241m1\u001B[39m]) \u001B[38;5;241m/\u001B[39m ds \u001B[38;5;241m*\u001B[39m\u001B[38;5;241m*\u001B[39m \u001B[38;5;241m2\u001B[39m\n\u001B[1;32m      9\u001B[0m                 \u001B[38;5;241m+\u001B[39m r \u001B[38;5;241m*\u001B[39m S[j] \u001B[38;5;241m*\u001B[39m (C2[i \u001B[38;5;241m+\u001B[39m \u001B[38;5;241m1\u001B[39m, j \u001B[38;5;241m+\u001B[39m \u001B[38;5;241m1\u001B[39m] \u001B[38;5;241m-\u001B[39m C2[i \u001B[38;5;241m+\u001B[39m \u001B[38;5;241m1\u001B[39m, j]) \u001B[38;5;241m/\u001B[39m ds \u001B[38;5;241m-\u001B[39m r \u001B[38;5;241m*\u001B[39m C2[i \u001B[38;5;241m+\u001B[39m \u001B[38;5;241m1\u001B[39m, j])\n\u001B[1;32m     10\u001B[0m end \u001B[38;5;241m=\u001B[39m time\u001B[38;5;241m.\u001B[39mtime()\n\u001B[1;32m     11\u001B[0m \u001B[38;5;28mprint\u001B[39m(end \u001B[38;5;241m-\u001B[39m start)\n",
      "\u001B[0;31mKeyboardInterrupt\u001B[0m: "
     ]
    }
   ],
   "execution_count": 14
  },
  {
   "cell_type": "code",
   "id": "03d20228",
   "metadata": {
    "ExecuteTime": {
     "end_time": "2024-11-19T13:01:44.644791535Z",
     "start_time": "2024-11-18T08:24:20.657531Z"
    }
   },
   "source": [
    "plt.plot(S, C2[0, :])\n",
    "plt.plot(S, C0exact)"
   ],
   "outputs": [
    {
     "data": {
      "text/plain": [
       "[<matplotlib.lines.Line2D at 0x7fc7d1283590>]"
      ]
     },
     "execution_count": 26,
     "metadata": {},
     "output_type": "execute_result"
    },
    {
     "data": {
      "text/plain": [
       "<Figure size 640x480 with 1 Axes>"
      ],
      "image/png": "[encoded data removed]"
     },
     "metadata": {},
     "output_type": "display_data"
    }
   ],
   "execution_count": 26
  },
  {
   "cell_type": "code",
   "id": "3b808ce4",
   "metadata": {
    "ExecuteTime": {
     "end_time": "2024-11-19T13:01:44.645463548Z",
     "start_time": "2024-11-18T08:24:21.861497Z"
    }
   },
   "source": "max(abs(C2[0, :] - C0exact))",
   "outputs": [
    {
     "data": {
      "text/plain": [
       "0.4123596992101284"
      ]
     },
     "execution_count": 27,
     "metadata": {},
     "output_type": "execute_result"
    }
   ],
   "execution_count": 27
  },
  {
   "cell_type": "code",
   "id": "47649291",
   "metadata": {
    "ExecuteTime": {
     "end_time": "2024-11-19T13:01:44.645924011Z",
     "start_time": "2024-11-18T08:24:22.694305Z"
    }
   },
   "source": [
    "C2"
   ],
   "outputs": [
    {
     "data": {
      "text/plain": [
       "array([[0.00000000e+00, 3.74032796e-13, 6.01167135e-11, ...,\n",
       "        7.28263069e+02, 7.38263031e+02, 7.48262993e+02],\n",
       "       [0.00000000e+00, 3.67605915e-13, 5.91614031e-11, ...,\n",
       "        7.28245447e+02, 7.38245409e+02, 7.48245370e+02],\n",
       "       [0.00000000e+00, 3.61281195e-13, 5.82200125e-11, ...,\n",
       "        7.28227823e+02, 7.38227785e+02, 7.48227747e+02],\n",
       "       ...,\n",
       "       [0.00000000e+00, 0.00000000e+00, 0.00000000e+00, ...,\n",
       "        7.10047797e+02, 7.20047797e+02, 7.30047796e+02],\n",
       "       [0.00000000e+00, 0.00000000e+00, 0.00000000e+00, ...,\n",
       "        7.10028899e+02, 7.20028899e+02, 7.30028899e+02],\n",
       "       [0.00000000e+00, 0.00000000e+00, 0.00000000e+00, ...,\n",
       "        7.10010000e+02, 7.20010000e+02, 7.30010000e+02]])"
      ]
     },
     "execution_count": 28,
     "metadata": {},
     "output_type": "execute_result"
    }
   ],
   "execution_count": 28
  },
  {
   "cell_type": "code",
   "id": "9e91bacf",
   "metadata": {
    "ExecuteTime": {
     "end_time": "2024-11-19T13:01:44.646471497Z",
     "start_time": "2024-11-18T08:49:11.795101Z"
    }
   },
   "source": [
    "# equiv avec produit de matrice\n",
    "A2 = np.diag(1 - dt * (sigma ** 2 / ds ** 2) * S[1:N] ** 2 - dt * r * S[1:N] / ds - dt * r) \\\n",
    "     + np.diag(dt * 0.5 * (sigma / ds) ** 2 * S[1:N - 1] ** 2 + dt * r / ds * S[1:N - 1], 1) \\\n",
    "     + np.diag(dt * 0.5 * (sigma / ds) ** 2 * S[2:N] ** 2, -1)\n",
    "\n",
    "np.linalg.eig(A2)[0]\n",
    "\n",
    "\n"
   ],
   "outputs": [
    {
     "data": {
      "text/plain": [
       "array([0.99999104, 0.99998705, 0.99998024, 0.9999702 , 0.99995656,\n",
       "       0.99993893, 0.99991694, 0.99989022, 0.99985843, 0.99967322,\n",
       "       0.99972895, 0.99982119, 0.99977815, 0.99961059, 0.9995407 ,\n",
       "       0.99946316, 0.9993776 , 0.99928361, 0.99918081, 0.99906879,\n",
       "       0.99894714, 0.99881544, 0.99867325, 0.9981793 , 0.99835563,\n",
       "       0.99852013, 0.99799065, 0.9977892 , 0.99757445, 0.99734589,\n",
       "       0.99710298, 0.9968452 , 0.99657197, 0.99628273, 0.99597687,\n",
       "       0.99531288, 0.9956538 , 0.99495345, 0.99457486, 0.99417639,\n",
       "       0.99375734, 0.99331696, 0.99285447, 0.99236909, 0.99185998,\n",
       "       0.99132627, 0.98892716, 0.98825637, 0.99076709, 0.98956852,\n",
       "       0.98755505, 0.98682206, 0.98605621, 0.98525625, 0.98442087,\n",
       "       0.9835487 , 0.99018149, 0.9826383 , 0.98168816, 0.98069669,\n",
       "       0.97244563, 0.97505728, 0.97377911, 0.97628252, 0.9796622 ,\n",
       "       0.97745704, 0.97105433, 0.96960252, 0.96808733, 0.87642199,\n",
       "       0.96650566, 0.9594439 , 0.95747448, 0.96132735, 0.95541413,\n",
       "       0.96312939, 0.95325741, 0.95099831, 0.94079405, 0.90259007,\n",
       "       0.92081989, 0.93790708, 0.93486398, 0.91673687, 0.94863022,\n",
       "       0.94353681, 0.93165107, 0.92464947, 0.90766968, 0.88417182,\n",
       "       0.89096735, 0.89705636, 0.97858295, 0.94614579, 0.91236733,\n",
       "       0.96485421, 0.92825246, 0.86724618, 0.85543719])"
      ]
     },
     "execution_count": 57,
     "metadata": {},
     "output_type": "execute_result"
    }
   ],
   "execution_count": 57
  },
  {
   "metadata": {
    "ExecuteTime": {
     "end_time": "2024-11-19T13:01:44.647060608Z",
     "start_time": "2024-11-18T08:45:36.585772Z"
    }
   },
   "cell_type": "code",
   "source": [
    "plt.plot(S, C2[0, :])\n",
    "plt.plot(S, C0exact)"
   ],
   "id": "c5a551bc4782d43e",
   "outputs": [
    {
     "data": {
      "text/plain": [
       "[<matplotlib.lines.Line2D at 0x7fc809de84d0>]"
      ]
     },
     "execution_count": 51,
     "metadata": {},
     "output_type": "execute_result"
    },
    {
     "data": {
      "text/plain": [
       "<Figure size 640x480 with 1 Axes>"
      ],
      "image/png": "[encoded data removed]"
     },
     "metadata": {},
     "output_type": "display_data"
    }
   ],
   "execution_count": 51
  },
  {
   "metadata": {},
   "cell_type": "code",
   "outputs": [],
   "execution_count": null,
   "source": "",
   "id": "51dea48999caaaf7"
  }
 ],
 "metadata": {
  "kernelspec": {
   "display_name": "Python 3",
   "language": "python",
   "name": "python3"
  },
  "language_info": {
   "codemirror_mode": {
    "name": "ipython",
    "version": 3
   },
   "file_extension": ".py",
   "mimetype": "text/x-python",
   "name": "python",
   "nbconvert_exporter": "python",
   "pygments_lexer": "ipython3",
   "version": "3.8.8"
  }
 },
 "nbformat": 4,
 "nbformat_minor": 5
}
